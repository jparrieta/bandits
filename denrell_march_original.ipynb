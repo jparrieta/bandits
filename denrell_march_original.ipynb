{
 "cells": [
  {
   "cell_type": "markdown",
   "metadata": {},
   "source": [
    "# Tutorial on Denrell and March (2001)\n",
    "\n",
    "In this tutorial, you will be introduced to a simple model that replicates the main finding from the paper by Jerker Denrell and Jim March, published in 2001 in Organization Science. \n",
    "\n",
    "This tutorial provides a barebones description of the model. If you want to explore a more flexible version or explore how different agents or bandit distributions would affect Jerker's and Jim's results please follow the denrell_march.ipynb tutorial.\n",
    "\n",
    "**Reference:** Denrell, J., & March, J. G. (2001). Adaptation as information restriction: The hot stove effect. Organization Science, 12(5), 523-538.\n"
   ]
  },
  {
   "cell_type": "markdown",
   "metadata": {},
   "source": [
    "# Basic Building Blocks\n",
    "\n",
    "In this first sections, I will present the basic building blocks. Namely, the àgent's learning and decision processes and how we generate options in the environment.\n",
    "\n",
    "## Agents\n",
    "The agents follow a few simple actions. \n",
    "\n",
    "### 1. Choose\n",
    "The agents choose one option based upon their attraction to this option. In this model, we use softmax as the rule for transforming the different attractions for each option into probabilities of choosing one option. Other rules as greedy and e-greedy are possible. The agent's level of exploration is determined by the parameter tau. A small tau leads to high exploitation, a high tau to infinite exploration. Due to limitations in the floating point operation we cannot use taus lower that 0.002.\n",
    "\n",
    "### 2. Update\n",
    "Updating is done via the Bush-Mossteller equation. The parameter phi determins how much the agent updates its beliefs based upon new information. A value of zero leads to agents to not update their beliefs. A value of one to full update of beliefs. A mixture leads to what is known as an Exponentially Recency Weighted Average (Sutton and Barto, 1998). In Denrell and March (2001), we use a constant phi value. Agents in this paper as fully specified by providing them a tau and a phi value.\n",
    "\n",
    "### 3. Learn\n",
    "Learn is a subroutine. It receives two parameters, the number of periods and the bandits to learn from. \n",
    "It initalizes two lists and starts a for loop that run for the specified number of periods.\n",
    "The period starts by asking the agent to choose an option. The payoff of the option is calculated by measuring the option's value. This is explained in the next section. The period ends with the updating of the agent's attractions and the storage of the choice and payoff. After this a new period starts, the choices are stored and returned to the user.\n",
    "\n",
    "### 4. Reset\n",
    "This function resets the attractions of the agent. It takes one value, the number of bandits in the environment."
   ]
  },
  {
   "cell_type": "code",
   "execution_count": 1,
   "metadata": {},
   "outputs": [],
   "source": [
    "import numpy as np\n",
    "import matplotlib.pyplot as plt\n",
    "\n",
    "class agent:\n",
    "    def __init__(self, tau, phi):\n",
    "        self.tau = tau\n",
    "        self.phi = phi\n",
    "    def choose(self): return(np.random.choice(range(len(self.attraction)), p = self.attraction))\n",
    "    def learn(self, num_periods, bandits):\n",
    "        choices = []\n",
    "        payoffs = []\n",
    "        for i in range(num_periods):\n",
    "            choice = self.choose()\n",
    "            payoff = bandits.measure(choice)\n",
    "            self.update(choice, payoff)\n",
    "            choices.append(choice)\n",
    "            payoffs.append(payoff)\n",
    "        return([choices, payoffs])\n",
    "    def reset(self, means, att):\n",
    "        if len(att) == num_bandits: self.attraction = np.asarray(att)\n",
    "        else: self.attraction = np.ones(num_bandits)/2.0\n",
    "        self.aspiration = np.sum(att[:]*means[:])\n",
    "    def update(self, choice, payoff):\n",
    "        # update Choice\n",
    "        if payoff > self.aspiration: self.attraction[choice] += self.tau*(1.0-self.attraction[choice])\n",
    "        else: self.attraction[choice] = (1-self.tau)*self.attraction[choice]\n",
    "        # Update Others\n",
    "        others = np.arange(len(self.attraction)) != choice\n",
    "        self.attraction[others] = self.attraction[others]*((1.0-self.attraction[choice])/sum(self.attraction[others]))\n",
    "        # Update Aspiration\n",
    "        self.aspiration = self.aspiration*(1.0-self.phi) + payoff*self.phi"
   ]
  },
  {
   "cell_type": "markdown",
   "metadata": {},
   "source": [
    "## Environment\n",
    "The environment is composed of an n-arm bandit. Each arm of the bandit is definied by an object of class bandit. Put together these objects create one object of class bandits. \n",
    "\n",
    "### Bandit\n",
    "The bandit is a simple structure. It has a mean and a standard deviation. The style determines whether the bandit outputs an uniformly distributed value, a normally distributed value, or one without noise.\n",
    "\n",
    "#### Measure\n",
    "The bandits perform one function, when called upon, they give one output, centered around a mean value and with an added noise. The style of bandit determines where the noise is drawn upon."
   ]
  },
  {
   "cell_type": "code",
   "execution_count": 2,
   "metadata": {},
   "outputs": [],
   "source": [
    "class bandit:\n",
    "    def __init__(self, mean, noise):\n",
    "        self.mean = mean\n",
    "        self.noise = noise\n",
    "    def measure(self): return(np.random.normal(loc = self.mean, scale = self.noise))"
   ]
  },
  {
   "cell_type": "markdown",
   "metadata": {},
   "source": [
    "### Bandits_D_M\n",
    "This class creates the environment for the paper. In specific, two bandits. One with stable output and one with variable output. Both bandits have the same mean.\n",
    "\n",
    "#### Measure\n",
    "This is a wrapper function. The objective is that the agents ask the bandits class and not the specific bandit for the measurement. Then the bandits class is in charge of asking its bandit for the performance value. "
   ]
  },
  {
   "cell_type": "code",
   "execution_count": 3,
   "metadata": {},
   "outputs": [],
   "source": [
    "class bandits_D_M:\n",
    "    def __init__(self, mean,  noise): \n",
    "        self.means = [mean, mean]\n",
    "        self.arms = [bandit(mean = mean, noise = noise),\n",
    "                     bandit(mean = mean, noise = 0.0)]\n",
    "        self.means = np.zeros(len(self.arms))\n",
    "        for i in range(len(self.arms)): self.means[i] = self.arms[i].mean\n",
    "    def measure(self, choice): return(self.arms[choice].measure())"
   ]
  },
  {
   "cell_type": "markdown",
   "metadata": {},
   "source": [
    "### Simulation\n",
    "\n",
    "With these two building blocks, we can run a simulation to replicate the main finding of Denrell and March (2001).\n",
    "\n",
    "#### 1. Initialize values\n",
    "We start by initailizing the attributes of the simulation. The agents are given a set of tau and phi. The agents will learn for 50 periods and the results replicated 2500 times. We specify the noise to be 1, that means the bandits will draw from values between 0 and 1. Changes in the tau, phi, noise, and bandit style should change the learning. Changes in the number of repetitions lead to more noisy results."
   ]
  },
  {
   "cell_type": "code",
   "execution_count": 4,
   "metadata": {},
   "outputs": [],
   "source": [
    "## Bandits\n",
    "mean = 10.0\n",
    "noise = 10.0\n",
    "num_bandits = 2\n",
    "## Agents\n",
    "tau = 0.5 # b in Denrell and March\n",
    "phi = 0.5 # a in Denrell and March\n",
    "start_p = np.ones(num_bandits)/num_bandits\n",
    "## Simulation\n",
    "num_periods = 50\n",
    "num_reps = 5000"
   ]
  },
  {
   "cell_type": "markdown",
   "metadata": {},
   "source": [
    "#### 2. Initialize agent and Bandits\n",
    "We create one agent, Alice and initialize the environment for the paper. The bandits are created by specifying first two agents one drawn from an uniform distribution and the second one from a stable value."
   ]
  },
  {
   "cell_type": "code",
   "execution_count": 5,
   "metadata": {},
   "outputs": [],
   "source": [
    "Alice = agent(tau = tau, phi = phi)\n",
    "options = bandits_D_M(mean = mean, noise = noise)"
   ]
  },
  {
   "cell_type": "markdown",
   "metadata": {},
   "source": [
    "#### 3. Run simulation\n",
    "Having the agent and environment we can run a simulation. We initialize two arrays, one for payoff and one for choices. Additionally, we create an empty list to store the last choices of the agents and one value to save the attraction to the option with variable output after every replication of the simulation is finished.\n",
    "\n",
    "This takes some time."
   ]
  },
  {
   "cell_type": "code",
   "execution_count": 6,
   "metadata": {},
   "outputs": [],
   "source": [
    "all_payoffs = np.zeros(num_periods)\n",
    "all_choices = np.zeros(num_periods)\n",
    "all_aspiration = 0.0\n",
    "last_choices = []\n",
    "for j in range(num_reps):\n",
    "    Alice.reset(options.means, np.ones(num_bandits)/num_bandits) # second attribute gets updated after a reset somehow\n",
    "    choice, payoff = Alice.learn(num_periods, options)\n",
    "    all_payoffs += payoff\n",
    "    all_choices += choice\n",
    "    all_aspiration += Alice.aspiration\n",
    "    last_choices.append(choice[-1])"
   ]
  },
  {
   "cell_type": "markdown",
   "metadata": {},
   "source": [
    "#### 4. Display results\n",
    "\n",
    "##### Choice as function of time\n",
    "We present two plots. The first one presents the option chosen on every period. As on every period the agent can choose 0 or 1, what we plot in the y-axis is the number of times the stable option is chosen. As expected, the first period starts at 50% of the time and it increases towards a 100% as time goes by.\n"
   ]
  },
  {
   "cell_type": "code",
   "execution_count": 7,
   "metadata": {
    "scrolled": true
   },
   "outputs": [
    {
     "data": {
      "text/plain": [
       "<matplotlib.collections.PathCollection at 0xfc57a34c50>"
      ]
     },
     "execution_count": 7,
     "metadata": {},
     "output_type": "execute_result"
    },
    {
     "data": {
      "image/png": "[encoded data removed]",
      "text/plain": [
       "<Figure size 432x288 with 1 Axes>"
      ]
     },
     "metadata": {
      "needs_background": "light"
     },
     "output_type": "display_data"
    }
   ],
   "source": [
    "plt.scatter(range(num_periods), all_choices)"
   ]
  },
  {
   "cell_type": "markdown",
   "metadata": {},
   "source": [
    "##### Performance as function of time\n",
    "The second graph presents the average payoff. This looks like a funnel, narrowing from left to right. As the stable option is chosen more and more, the variance in the performanc decreases. "
   ]
  },
  {
   "cell_type": "code",
   "execution_count": 8,
   "metadata": {},
   "outputs": [
    {
     "data": {
      "text/plain": [
       "<matplotlib.collections.PathCollection at 0xfc57ad72b0>"
      ]
     },
     "execution_count": 8,
     "metadata": {},
     "output_type": "execute_result"
    },
    {
     "data": {
      "image/png": "[encoded data removed]",
      "text/plain": [
       "<Figure size 432x288 with 1 Axes>"
      ]
     },
     "metadata": {
      "needs_background": "light"
     },
     "output_type": "display_data"
    }
   ],
   "source": [
    "plt.scatter(range(num_periods), all_payoffs)"
   ]
  },
  {
   "cell_type": "markdown",
   "metadata": {},
   "source": [
    "#### Summary variables\n",
    "##### Percentage of time stability is chosen\n",
    "Both options have the same performance. Nonetheless, the stable option is chosen 98% of the time after 50 periods. "
   ]
  },
  {
   "cell_type": "code",
   "execution_count": 9,
   "metadata": {},
   "outputs": [
    {
     "data": {
      "text/plain": [
       "99.74"
      ]
     },
     "execution_count": 9,
     "metadata": {},
     "output_type": "execute_result"
    }
   ],
   "source": [
    "100*float(sum(last_choices))/num_reps"
   ]
  },
  {
   "cell_type": "markdown",
   "metadata": {},
   "source": [
    "##### Expected attraction\n",
    "At the end ofthe each replication, we stored the attraction each agent had for the variable option. Below we cane see that agents perceived the average performance of this option to be 0.464, much lower than the 0.5 it really has.  "
   ]
  },
  {
   "cell_type": "code",
   "execution_count": 10,
   "metadata": {},
   "outputs": [
    {
     "data": {
      "text/plain": [
       "9.999235811012092"
      ]
     },
     "execution_count": 10,
     "metadata": {},
     "output_type": "execute_result"
    }
   ],
   "source": [
    "all_aspiration/num_reps"
   ]
  },
  {
   "cell_type": "markdown",
   "metadata": {},
   "source": [
    "# Exercise\n",
    "Find the how high the mean of the variable option needs to be in order to be chosen 50% of the time at the end of the simulation. How does it related to the amount of noise in the option? How does it change if normal and not uniform noise is used? Or if we use the 1/(k+1) updating instead of constant updating?"
   ]
  }
 ],
 "metadata": {
  "kernelspec": {
   "display_name": "Python 3",
   "language": "python",
   "name": "python3"
  },
  "language_info": {
   "codemirror_mode": {
    "name": "ipython",
    "version": 3
   },
   "file_extension": ".py",
   "mimetype": "text/x-python",
   "name": "python",
   "nbconvert_exporter": "python",
   "pygments_lexer": "ipython3",
   "version": "3.7.3"
  }
 },
 "nbformat": 4,
 "nbformat_minor": 2
}
