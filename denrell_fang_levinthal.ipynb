{
 "cells": [
  {
   "cell_type": "markdown",
   "metadata": {},
   "source": [
    "# Tutorial on Denrell, Fang, and Levinthal (2004)\n",
    "\n",
    "In this tutorial, you will be introduced to a simple model that replicates the main finding from the paper by  \n",
    "Jerker Denrell, Christina Fang, and Dan Levinthal, published in 2004 in Management Science.  \n",
    "\n",
    "This tutorial provides a barebones description of the model. In the future I will incorporate it to the full_tutorial but this will require a large change to the initial model. \n",
    "\n",
    "**Reference:** Denrell, J., Fang, C., & Levinthal, D. A. (2004). From T-mazes to labyrinths: Learning from model-based feedback. Management Science, 50(10), 1366-1378."
   ]
  },
  {
   "cell_type": "markdown",
   "metadata": {},
   "source": [
    "# Basic Building Blocks\n",
    "\n",
    "In this first sections, I will present the basic building blocks. Namely, the àgents, the organization, and the environment. The agents in this paper are both more complex but also simpler than the ones in Denrell and March (2001), or Posen and Levinthal (2012). They are simpler because they are \"greedy\", they always choose the best option available. Instead of using softmax, or aspiration level search. They are more complex because they are contextual. They choose according to the position in the labyrinth. \n",
    "\n",
    "## Agents\n",
    "The agents follow perform few simple actions.  \n",
    "### 1. Choose\n",
    "The agents choose the best option available in the current position in the labyrinth. Each position has 11 different actions, as the there are 10 arms in the bandit combination. \n",
    "### 2. Jump\n",
    "This function updates the position in the maze after a choice is made. It is done by flipping the position chosen. There are 11 positions, if the agent chooses 0, no position is flipped. A higher value flips the i'th value.  \n",
    "### 3. Learn\n",
    "This is problem solving part of the algorithm. It runs a simple for loop for num_periods of times. Each period the agent looks for a solution and updates the attractions of the agents as the simulation runs. The start of every period is different so the agent gets knowledge from the full labyrithn after a while.  \n",
    "### 4. Reset\n",
    "This function resets the starting point for the agent and the attractions of each position. In this paper, the agents are pesimists, having 0 expected value in the start. The agents are also greedy thus this is not problematic as it would be in softmax.  \n",
    "### 5. Solve\n",
    "This is the main function of the agent, the agent starts at a random point in the labyrinth and keeps choosing until the end point is reached. On every period the agent updates it beliefs of the attributes but only in the last does the agent get a feedback value. When the feedback value is received, the credit is backpropagated to the lambda states before the solution. To implement the creidt assignment we need to create a log of the choices and the states the agent passes through as the problem is solved. This provides a big difference with other bandits where states do not exists, so we just care about the choice in the current state.  \n",
    "### 6. Staircase\n",
    "This function is used for data output purposes only. The idea is to estimate the average mental model stair case shown in the paper. In this figure, the highest value at different Hamming distnaces are shown. \n",
    "### 2. Update\n",
    "Updating is done via the Bush-Mossteller equation with the change. The parameter phi determines how much the agent updates its beliefs when faced with new information. A value of zero leads to agents to not update their beliefs. A value of one to full change of  their beliefs. A mixture leads to what is known as an Exponentially Recency Weighted Average (Sutton and Barto, 1998). The agents have a constant phi value, which allow them to be responsive to changes in the environment even in late stages.\n",
    "The first change with the standard Sutton and Barto formula is the addition of a gamma parameter that links the current state's payoff with the payoff in the next state chosen. This is what is meant by credit assignment as when the problem is solve the credit is shared back to the prior positions in the solution. \n",
    "The second change is the inclusion of a multi-level credit assignment. The feedback in this case is not linked to the position behind the payoff but also to the lambda steps before.  \n",
    "### Note: \n",
    "During the update process if at some point the value to add is higher than one, I replace it for 1. Therefore this simulation work ONLY for bandits with val_max <= 1. This is needed to replicate the Figure 1. If not, we get values higher than one. "
   ]
  },
  {
   "cell_type": "code",
   "execution_count": 1,
   "metadata": {},
   "outputs": [],
   "source": [
    "import numpy as np\n",
    "import pandas as pd\n",
    "import matplotlib.pyplot as plt\n",
    "from time import time\n",
    "\n",
    "class agent:\n",
    "    def __init__(self, phi, gamma, N, lamb):\n",
    "        self.N = N\n",
    "        self.phi = phi\n",
    "        self.gamma = gamma\n",
    "        self.lamb = lamb\n",
    "    def choose(self): \n",
    "        val_max = np.max(self.attraction[self.state])\n",
    "        max_choices = list([i for i in range(len(self.attraction[self.state])) if self.attraction[self.state][i] == val_max])\n",
    "        if len(max_choices) > 1: return(np.random.choice(max_choices))\n",
    "        else: return(max_choices[0])\n",
    "    def jump(self, choice):\n",
    "        next_state = list(self.state)\n",
    "        if choice == 0: return(self.state)\n",
    "        else:\n",
    "            if self.state[choice-1] == '0': next_state[choice-1] = '1'\n",
    "            elif self.state[choice-1] == '1': next_state[choice-1] = '0'\n",
    "            next_state = \"\".join(next_state)\n",
    "            return(next_state)\n",
    "    def learn(self, bandits, num_periods):\n",
    "        log_k = []\n",
    "        for i in range(num_periods): \n",
    "            self.state = int2pol(np.random.choice(range(2**self.N)), self.N)\n",
    "            log_k.append(self.solve(bandits))\n",
    "        mental_model = self.staircase()\n",
    "        return([log_k, mental_model])\n",
    "    def reset(self, start_state = []):\n",
    "        self.attraction = {int2pol(i,self.N): np.zeros(self.N+1) for i in range(2**self.N)}\n",
    "        if start_state == []: self.state = int2pol(np.random.choice(range(2**self.N)), self.N)\n",
    "        else: self.state = start_state\n",
    "    def solve(self, bandits):\n",
    "        payoff = 0.0\n",
    "        k = 0\n",
    "        log_state = []\n",
    "        log_choice = []\n",
    "        while payoff == 0.0 and k< 10000:\n",
    "            log_state.append(self.state)\n",
    "            choice = self.choose()\n",
    "            next_state = self.jump(choice)\n",
    "            payoff = bandits.measure(next_state)\n",
    "            self.state = next_state\n",
    "            log_choice.append(choice)\n",
    "            self.update(log_state, log_choice, next_state, payoff)\n",
    "            k+=1\n",
    "        log_state.append(next_state)\n",
    "        log_choice.append(0)\n",
    "        self.update(log_state, log_choice, next_state, payoff)\n",
    "        return(k)\n",
    "    def update(self, log_state, log_choice, next_state, payoff):\n",
    "        log_state.reverse()\n",
    "        log_choice.reverse()\n",
    "        update = (self.attraction[log_state[0]][log_choice[0]]*(1-self.phi) + self.phi*(payoff+self.gamma*np.max(self.attraction[next_state])))\n",
    "        if update > 1.0: update = 1.0\n",
    "        self.attraction[log_state[0]][log_choice[0]] = update\n",
    "        if len(log_state) > 1 and self.lamb > 1: \n",
    "            next_state = log_state[0]\n",
    "            if len(log_state) > self.lamb: depth = range(self.lamb-1)\n",
    "            else: depth = range(len(log_state)-1)\n",
    "            for i in depth:\n",
    "                update = (self.attraction[log_state[i]][log_choice[i]]*(1-self.phi) + self.phi*self.gamma*np.max(self.attraction[next_state]))\n",
    "                if update > 1.0: update = 1.0\n",
    "                self.attraction[log_state[i+1]][log_choice[i+1]] = update\n",
    "                next_state = log_state[i]\n",
    "    def staircase(self):\n",
    "        d = {\"policies\": [key for key in self.attraction.keys()],\n",
    "             \"values\": [np.max(val) for val in self.attraction.values()],\n",
    "             \"distance\": hamming(self.attraction.keys(), \"0\"*10)}\n",
    "        db = pd.DataFrame(d)\n",
    "        mental_model = [np.mean(db.loc[db.distance == i, \"values\"]) for i in range(11)]\n",
    "        return(mental_model)"
   ]
  },
  {
   "cell_type": "markdown",
   "metadata": {},
   "source": [
    "## Miscellaneous Functions\n",
    "\n",
    "I have two miscellaneous functions.\n",
    "\n",
    "### int2pol\n",
    "This function is take from the NK tutorial, it translates an integer from to a string of N binary characters. This allows me to create a simple dictionary for each state in the maze. \n",
    "\n",
    "### hamming\n",
    "This function measures the hamming distance of a policy to the winning state."
   ]
  },
  {
   "cell_type": "code",
   "execution_count": 2,
   "metadata": {},
   "outputs": [],
   "source": [
    "def int2pol(pol_int, n):\n",
    "    pol = bin(pol_int)[2:] # removes the '0b'\n",
    "    if len(pol) < n: pol = '0'*(n-len(pol)) + pol\n",
    "    return(pol)      \n",
    "def hamming(policies, bingo):\n",
    "    hamming = [np.sum([1 if pol[j] != bingo[j] else 0 for j in range(len(bingo))]) for pol in policies]\n",
    "    return(hamming)"
   ]
  },
  {
   "cell_type": "markdown",
   "metadata": {},
   "source": [
    "## Environment\n",
    "In this paper, the bandits are specially simple. There is no noise due to the bandit. Thus the bandits just output the mean value for which they are initialized. However, there are many 2^N bandits instead of just 10. This is similar to a typical description of rugged landscape where N variables produce 2^N positions in the landscape.  \n",
    "\n",
    "### 1. Bandit\n",
    "The bandit is a simple structure. It has a mean and it outputs it when measured.\n",
    "\n",
    "#### Measure\n",
    "The bandits perform one function, when called upon, they give the mean of the bandit. "
   ]
  },
  {
   "cell_type": "code",
   "execution_count": 3,
   "metadata": {},
   "outputs": [],
   "source": [
    "class bandit:\n",
    "    def __init__(self, mean): self.mean = mean\n",
    "    def measure(self): return(self.mean)"
   ]
  },
  {
   "cell_type": "markdown",
   "metadata": {},
   "source": [
    "###  2. Bandits_DFL\n",
    "This class creates the environment for the Denrell, Fang, and Levinthal (2004) paper. In specific, 2^N bandits where 2^N - 1 have zero value and one has a value of 1. \n",
    "\n",
    "#### Make Bandit\n",
    "Although Jerker, Christina, and Dan study 2^N positions in a labyrinth, these positions just output two values, a minimum and a maximum. The maximum is given when both agents choose the correct state (bingo). The minimum is given in every other state pair. Because of this, we can simplify the environment and create just two bandits. One for when the high value is reached, another one for every other state. This is the same we did for Puranam and Swamy (2016). However, there we had just M^2 bandits. \n",
    "\n",
    "#### Measure\n",
    "This function routes which bandit will give the output. If both choices are correct, then we measure the high-valued bandit. In every other case, we choose the other bandit. "
   ]
  },
  {
   "cell_type": "code",
   "execution_count": 4,
   "metadata": {},
   "outputs": [],
   "source": [
    "class bandits_DFL:\n",
    "    def __init__(self, bingo, val_max, val_min): \n",
    "        self.arms = [bandit(mean = val_max), bandit(mean = val_min)]\n",
    "        self.bingo = bingo\n",
    "    def measure(self, choice): \n",
    "        if choice == self.bingo: return(self.arms[0].measure())\n",
    "        else: return(self.arms[1].measure())"
   ]
  },
  {
   "cell_type": "markdown",
   "metadata": {},
   "source": [
    "# Simulation\n",
    "\n",
    "With the previous two building blocks, we can run a simulation to replicate the main findings of Denrell, Fang, and Levinthal (2004).\n",
    "\n",
    "## 1. Initialize values\n",
    "The first thin we need to do is initialize each module. That is, set how the agents learn, and how the environment is built.  \n",
    "\n",
    "### 1.1 Bandit\n",
    "We start by specifying the bandits. There are ten bandits. The bandits have a maximum value that appears when both agents choose option 2 (bingo!). If not then a minimum value is given. The maximum value 1 and the minimum value is 0."
   ]
  },
  {
   "cell_type": "code",
   "execution_count": 5,
   "metadata": {},
   "outputs": [],
   "source": [
    "num_bandits = 10\n",
    "val_max = 1.0\n",
    "val_min = 0.0\n",
    "bingo = \"0\"*num_bandits"
   ]
  },
  {
   "cell_type": "markdown",
   "metadata": {},
   "source": [
    "### 1.2 Agents  \n",
    "The agents are fully specified by three parameters. phi, gamma, and lambda. Note that in Python lambda is already used, so I call it lamb instead.    \n",
    "  \n",
    "* Phi specifies how much they update their beliefs.\n",
    "* Gamma specifcies how the credit is assigned and how linked the action-state pairs are\n",
    "* Lambda specifices the number of levels back that a credit assignment is shared"
   ]
  },
  {
   "cell_type": "code",
   "execution_count": 6,
   "metadata": {},
   "outputs": [],
   "source": [
    "phi = 0.25 # not needed in \"over k\" updating mode\n",
    "gamma = 0.8\n",
    "lamb = 1"
   ]
  },
  {
   "cell_type": "markdown",
   "metadata": {},
   "source": [
    "### 1.3 Simulation\n",
    "In the paper, the simulation is run for 100 periods and 1000 replications. Here I run just 200 replications. The simulation is stable so taking longer time is not needed.   \n",
    "Please note, that just as in the paper, I start from a random place in the labyrinth on every ocassion. The authors change it in some of their analysis, I do not do it but I leave the provision for a future change in the simulation. "
   ]
  },
  {
   "cell_type": "code",
   "execution_count": 7,
   "metadata": {},
   "outputs": [],
   "source": [
    "num_periods = 100\n",
    "num_reps = 200 # 1000 typical\n",
    "start_state = [] # random"
   ]
  },
  {
   "cell_type": "markdown",
   "metadata": {},
   "source": [
    "## 2. Initialize agent, organization, and bandits\n",
    "We can now initialize the agents, organization, and bandtis based upon the prior values. "
   ]
  },
  {
   "cell_type": "code",
   "execution_count": 8,
   "metadata": {},
   "outputs": [],
   "source": [
    "Alice = agent(phi = phi, gamma = gamma, N = num_bandits, lamb = lamb)\n",
    "Labyrinth = bandits_DFL(bingo = bingo, val_min = val_min, val_max = val_max)"
   ]
  },
  {
   "cell_type": "markdown",
   "metadata": {},
   "source": [
    "## 3. Run simulation\n",
    "The simulation asks the agents to learn for 30 periods for 200 times. It stores two main values, the number of steps taken on average on every period to reach the exit of the labyrinth and the maximum beliefs at each Hamming distance. "
   ]
  },
  {
   "cell_type": "code",
   "execution_count": 9,
   "metadata": {},
   "outputs": [],
   "source": [
    "def run_simulation(Firms, options, num_periods, num_reps, start_state):\n",
    "    log_epochs = []\n",
    "    log_mental = []\n",
    "    for i in range(num_reps):\n",
    "        Firms.reset(start_state)\n",
    "        log_k, mental = Firms.learn(options, num_periods)\n",
    "        log_epochs.append(log_k)\n",
    "        log_mental.append(mental)\n",
    "        if i%10 == 0: print(int(i/10), end = \".\")\n",
    "    k_period = [np.mean([log_epochs[k][j] for k in range(num_reps)]) for j in range(num_periods)]\n",
    "    mental_model = [np.mean([log_mental[k][j+1] for k in range(num_reps)]) for j in range(10)]\n",
    "    return([k_period, mental_model])"
   ]
  },
  {
   "cell_type": "markdown",
   "metadata": {},
   "source": [
    "## 4. Run\n",
    "We run four simulations to replicate Figures 2 and 4 of the paper. We have a case where the agent has high credit assignment strength (gamma) but just one leavel of back propagation. Then a case where the credit assinment is null and short. Then two cases with high strength and 5-levels of back propagation, and 30 levels respectively. Again, just replicating Figures 2 and 4 in the paper. "
   ]
  },
  {
   "cell_type": "code",
   "execution_count": 10,
   "metadata": {},
   "outputs": [
    {
     "name": "stdout",
     "output_type": "stream",
     "text": [
      "0.1.2.3.4.5.6.7.8.9.10.11.12.13.14.15.16.17.18.19.First simulation done. It took: 71 seconds.\n",
      "0.1.2.3.4.5.6.7.8.9.10.11.12.13.14.15.16.17.18.19.Second simulation done. Total time so far: 271 seconds.\n",
      "0.1.2.3.4.5.6.7.8.9.10.11.12.13.14.15.16.17.18.19.Third simulation done. Total time so far: 339 seconds.\n",
      "0.1.2.3.4.5.6.7.8.9.10.11.12.13.14.15.16.17.18.19.Final simulation done. Total time: 573 seconds.\n"
     ]
    }
   ],
   "source": [
    "t = time()\n",
    "Alice.gamma = 0.9\n",
    "Alice.lamb = 1\n",
    "length1, m1 = run_simulation(Alice, Labyrinth, num_periods, num_reps, start_state)\n",
    "print(\"First simulation done. It took: \" + str(round(time()-t)) + \" seconds.\")\n",
    "Alice.gamma = 0.0\n",
    "Alice.lamb = 1\n",
    "length2, m2 = run_simulation(Alice, Labyrinth, num_periods, num_reps, start_state)\n",
    "print(\"Second simulation done. Total time so far: \" + str(round(time()-t)) + \" seconds.\")\n",
    "Alice.gamma = 0.9\n",
    "Alice.lamb = 5\n",
    "length3, m3 = run_simulation(Alice, Labyrinth, num_periods, num_reps, start_state)\n",
    "print(\"Third simulation done. Total time so far: \" + str(round(time()-t)) + \" seconds.\")\n",
    "Alice.gamma = 0.9\n",
    "Alice.lamb = 30\n",
    "length4, m4 = run_simulation(Alice, Labyrinth, num_periods, num_reps, start_state)\n",
    "print(\"Final simulation done. Total time: \" + str(round(time()-t)) + \" seconds.\")"
   ]
  },
  {
   "cell_type": "markdown",
   "metadata": {},
   "source": [
    "## 4.  Display results\n",
    "I first plot the results of Figure 1 in the paper, where the mental models are shown. The values here are higher than 1. I guess I have a bug, but not sure where. "
   ]
  },
  {
   "cell_type": "code",
   "execution_count": 31,
   "metadata": {},
   "outputs": [
    {
     "data": {
      "image/png": "[encoded data removed]",
      "text/plain": [
       "<Figure size 432x288 with 1 Axes>"
      ]
     },
     "metadata": {
      "needs_background": "light"
     },
     "output_type": "display_data"
    }
   ],
   "source": [
    "x_pos = range(1,len(m1)+1)\n",
    "x_pos2 = [x+0.5 for x in x_pos]\n",
    "performance = [10,8,6,4,2,1]\n",
    "\n",
    "plt.bar(x_pos, m1, width = 1/3, label = \"Gamma = 0.9\")\n",
    "plt.bar(x_pos2, m2, width = 1/3, label = \"Gamma = 0.0\")\n",
    "#plt.xticks(x_pos, objects)\n",
    "plt.ylabel('Average Max Q Value')\n",
    "plt.xlabel(\"Hamming Distance\")\n",
    "plt.legend()\n",
    "plt.show()"
   ]
  },
  {
   "cell_type": "markdown",
   "metadata": {},
   "source": [
    "I now present the results of replicating the Figures 2 and 4 of the Denrell, Fang, and Levinthal (2004) paper. We merge the two figures into one. The orange dots are from Figure 3, the green and red from Figure 4. The blue dots are in both figures. "
   ]
  },
  {
   "cell_type": "code",
   "execution_count": 38,
   "metadata": {
    "scrolled": true
   },
   "outputs": [
    {
     "data": {
      "image/png": "[encoded data removed]",
      "text/plain": [
       "<Figure size 432x288 with 1 Axes>"
      ]
     },
     "metadata": {
      "needs_background": "light"
     },
     "output_type": "display_data"
    }
   ],
   "source": [
    "limit = 50\n",
    "plt.scatter(range(limit), length1[:limit], label = \"Gamma = 0.9, Lambda = 1\")\n",
    "plt.scatter(range(limit), length2[:limit], label = \"Gamma = 0.0, Lambda = 1\")\n",
    "plt.scatter(range(limit), length3[:limit], label = \"Gamma = 0.9, Lambda = 5\")\n",
    "plt.scatter(range(limit), length4[:limit], label = \"Gamma = 0.9, Lambda = 30\")\n",
    "plt.axis((0,limit,0,500))\n",
    "plt.ylabel(\"Average Number of Steps to Reach Exit\")\n",
    "plt.xlabel(\"Period\")\n",
    "plt.legend()\n",
    "plt.show()"
   ]
  },
  {
   "cell_type": "markdown",
   "metadata": {},
   "source": [
    "## 5. Exercise\n",
    "What would happen if instead of starting all beliefs at zero we started them at 0.5? or a random value?  "
   ]
  }
 ],
 "metadata": {
  "kernelspec": {
   "display_name": "Python 3",
   "language": "python",
   "name": "python3"
  },
  "language_info": {
   "codemirror_mode": {
    "name": "ipython",
    "version": 3
   },
   "file_extension": ".py",
   "mimetype": "text/x-python",
   "name": "python",
   "nbconvert_exporter": "python",
   "pygments_lexer": "ipython3",
   "version": "3.7.3"
  }
 },
 "nbformat": 4,
 "nbformat_minor": 2
}
