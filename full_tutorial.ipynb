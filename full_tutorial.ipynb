{
 "cells": [
  {
   "cell_type": "markdown",
   "metadata": {},
   "source": [
    "# Tutorial on Modeling of Learning Under Uncertainty\n",
    "\n",
    "In this tutorial, you will be introduced to three modeling papers on reinforcement learning. These papers study the phenomenon of organizationa learning under uncertainty trough the use of agent based models who learn from n-Arm bandits.\n",
    "\n",
    "The models we will study are:  \n",
    "**1. March and Denrell (2001)**\n",
    "This paper introduced the so called Hotstove effect. The idea being that if agents choose between two options with the same mean, one with variance in its feedback and one without, the agents will learn to choose the variant without variance.\n",
    "\n",
    "**2. Posen and Levinthal (2012)**\n",
    "This paper expands the model from Denrell and March (2001) and studies how agents learn in an environment with ten options, all of them with variance. It studies the effects of different shocks and environmental changes as agents chase a moving target.\n",
    "\n",
    "**3. Puranam and Swamy (2016)**\n",
    "This paper expands the model from Denrell and March (2001) through the process of coupled learning. Two agents, not one as before, learn of the perfoemance of two options. The catch is that the performance is based upon their coupled action and the agetns do not know what the other agent is doing. Through time the agents learn to cooperate. Interestingly, if agents start with the same choice, they reach the optimal choice faster than if they started with mixed choices. This holds even if they start choosing the wrong option.\n",
    "\n",
    "The document builds a general agent who can update its beliefs and choose options in different ways, the bandits can also draw values from different distributions. These differences come from the different papers. This tutorial introduces the three papers at once in order to allow you to play around. At every point you can change the forms of the distributions or how the agents learn, in most cases the results you will find will be clear. In other cases you will need to find the aprropriate parameters.  \n",
    "  \n",
    "**Note:** You can find narrower tutorials that cover just one paper at a time in the repository: https://github.com/jparrieta/bandits.  \n"
   ]
  },
  {
   "cell_type": "markdown",
   "metadata": {},
   "source": [
    "<h1 id=\"tocheading\">Table of Contents</h1>\n",
    "<div id=\"toc\"></div>"
   ]
  },
  {
   "cell_type": "markdown",
   "metadata": {},
   "source": [
    "# Basic Building Blocks\n",
    "\n",
    "In this first sections, I will present the basic building blocks. Namely, the àgent's learning and decision processes and how we generate options in the environment.  \n",
    "\n",
    "## Agents\n",
    "The agents follow a few simple actions.  \n",
    "\n",
    "### 1. Choose\n",
    "The agents choose one option based upon their attraction to this option. Here there four versions of choosing options: greedy, e-greedy, softmax, and aspiration-level based. Denrell and March (2001) use aspiration-levels, Posen and Levinthal (2012) the other three.  \n",
    "* If the agent selects options via softmax, The agent's level of exploration is determined by the parameter tau. A small tau leads to high exploitation, a high tau to infinite exploration. Due to limitations in the floating point operation we cannot use taus lower that 0.002.  \n",
    "* If greedy is chosen, there is no free parameter to specify the level exlorativeness of the agent.  \n",
    "* If e-greedy is chosen, then the e parameter specifies the percentage of times the agent chooses an option other than the greedy one.  \n",
    "* If aspiration is chosen, then an option is drawn from a Polya urn with probabilities specified by the prior learning. To use aspiration level one needs to choose self_update = self_choose = \"aspiration\".  \n",
    "\n",
    "### 2. Update\n",
    "There are three ways of updating. Two are based on the Bush Mossteller equation one on aspiration-level search.  \n",
    "* The Bush Mossteller updating uses an Exponentially Recency Weighted Average (Sutton and Barto, 2018). The updating is based on phi. Phi can be constant, or varying according to 1/(k+1). Posen and Levinthal uses the 1/(k+1) version.  \n",
    "* The aspiration-level version is used in Denrell and March (2001). Here if the payoff received was higher than the aspiration then the probability of choosing that option is directly increased. If the payoff received is lower than the aspiration then the probability of choosing that options is lowered. The other options get updated accordingly. To use aspiration level one needs to choose self_update = self_choose = \"aspiration\".  \n",
    "\n",
    "### 3. Learn\n",
    "Learn is a subroutine. It receives two parameters, the number of periods and the bandits to learn from. \n",
    "It initalizes two lists and starts a for loop that run for the specified number of periods.  \n",
    "The period starts by asking the agent to choose an option. The payoff of the option is calculated by measuring the option's value. This is explained in the next section. The period ends with the updating of the agent's attractions and the storage of the choice and payoff. After this a new period starts, the choices are stored and returned to the user.  \n",
    "\n",
    "### 4. Reset\n",
    "This function resets the attractions of the agent. It takes one value, the number of bandits in the environment.  "
   ]
  },
  {
   "cell_type": "code",
   "execution_count": 1,
   "metadata": {},
   "outputs": [],
   "source": [
    "import numpy as np\n",
    "import matplotlib.pyplot as plt\n",
    "\n",
    "def softmax(tau, attraction): #softmax action selection with attraction vector as parameters\n",
    "    denom = np.sum(np.exp((attraction[:])/tau))\n",
    "    probabilities = np.exp(attraction/tau)/denom\n",
    "    choice = np.random.choice(range(len(probabilities)), p = probabilities)\n",
    "    return(choice)\n",
    "\n",
    "class agent:\n",
    "    def __init__(self, tau, phi, style_update, style_choose, style_start = \"same\"):\n",
    "        self.tau = tau\n",
    "        self.phi = phi\n",
    "        self.style_update = style_update\n",
    "        self.style_choose = style_choose\n",
    "        self.style_start = style_start\n",
    "    def choose(self):\n",
    "        if self.style_choose == \"softmax\": choice = softmax(self.tau, self.attraction)\n",
    "        elif self.style_choose == \"greedy\": choice = np.argmax(self.attraction)\n",
    "        elif self.style_choose == \"aspiration\": choice = np.random.choice(range(len(self.attraction)), p = self.attraction)\n",
    "        elif type(self.style_choose) == float: # for e-greedy you pass the e parameter only\n",
    "            best_choice = np.argmax(self.attraction)\n",
    "            other_choice = best_choice\n",
    "            while other_choice == best_choice: other_choice = np.random.choice(range(len(self.attraction))) #lazy\n",
    "            choice = np.random.choice([best_choice,other_choice], p = [1-self.style_choose,self.style_choose])\n",
    "        return(choice)\n",
    "    def learn(self, num_periods, bandits):\n",
    "        choices = []\n",
    "        payoffs = []\n",
    "        knowledge = []\n",
    "        RE = [1]\n",
    "        for i in range(num_periods):\n",
    "            choice = self.choose()\n",
    "            payoff = bandits.measure(choice)\n",
    "            nugget = 1-sum((self.attraction-bandits.means)**2)\n",
    "            self.update(choice, payoff)\n",
    "            choices.append(choice)\n",
    "            payoffs.append(payoff)\n",
    "            knowledge.append(nugget)\n",
    "            if len(choices) > 1: RE.append(1*(choices[-1] != choices[-2]))\n",
    "        return([choices, payoffs, knowledge, RE])\n",
    "    def reset(self, means, att):\n",
    "        if self.style_start == \"same\":\n",
    "            self.attraction = np.ones(len(means))/2.0\n",
    "            if self.style_update == \"over k\": self.times = np.zeros(len(means))\n",
    "            if self.style_update == \"aspiration\": \n",
    "                self.aspiration = np.sum(att[:]*means[:])\n",
    "                if len(att) == len(means): self.attraction = np.asarray(att)/np.sum(att)\n",
    "                else: self.attraction = np.ones(len(means))/len(means)       \n",
    "        elif self.style_start == \"fixed\":\n",
    "            self.attraction = np.array(att)\n",
    "            if self.style_update == \"over k\": self.times = np.zeros(len(means))\n",
    "            if self.style_update == \"aspiration\": \n",
    "                self.aspiration = np.sum(att[:]*means[:])\n",
    "                self.attraction = att\n",
    "    def update(self, choice, payoff):\n",
    "        if self.style_update == \"constant\": self.attraction[choice] += self.phi*(payoff-self.attraction[choice])\n",
    "        elif self.style_update == \"over k\":\n",
    "            self.times[choice] += 1 #starts in 1\n",
    "            self.attraction[choice] += (payoff-self.attraction[choice])/(self.times[choice]+1) # divides by 2\n",
    "        elif self.style_update == \"aspiration\":\n",
    "            # update Choice\n",
    "            if payoff > self.aspiration: self.attraction[choice] += self.phi*(1.0-self.attraction[choice])\n",
    "            else: self.attraction[choice] = (1-self.phi)*self.attraction[choice]\n",
    "            # Update Others\n",
    "            others = np.arange(len(self.attraction)) != choice\n",
    "            self.attraction[others] = self.attraction[others]*((1.0-self.attraction[choice])/sum(self.attraction[others]))\n",
    "            # Update Aspiration\n",
    "            self.aspiration = self.aspiration*(1.0-self.tau) + payoff*self.tau"
   ]
  },
  {
   "cell_type": "markdown",
   "metadata": {},
   "source": [
    "## Bandit  \n",
    "The environment is composed of an n-arm bandit. Each arm of the bandit is definied by an object of class bandit. Put together these objects create one object of class bandits.  \n",
    "The bandit is a simple structure. It has a mean and a standard deviation. The style determines whether the bandit outputs an uniformly distributed value, a normally distributed value, or one without noise. A bandit is the building block of the n-arm bandits of every paper we replicate in this study.  \n",
    "\n",
    "### Measure\n",
    "The bandits perform one function, when called upon, they give one output, centered around a mean value and with an added noise. The style of bandit determines where the noise is drawn upon."
   ]
  },
  {
   "cell_type": "code",
   "execution_count": 2,
   "metadata": {},
   "outputs": [],
   "source": [
    "class bandit:\n",
    "    def __init__(self, mean, noise, style):\n",
    "        self.mean = mean\n",
    "        self.noise = noise\n",
    "        self.style = style\n",
    "    def measure(self):\n",
    "        if self.style == \"Uniform\":  value = self.mean + self.noise*(np.random.random() - 0.5)\n",
    "        elif self.style == \"Normal\": value = np.random.normal(loc = self.mean, scale = self.noise)\n",
    "        elif self.style == \"Beta\": value = np.random.binomial(n = 1, p = self.mean)\n",
    "        elif self.style == \"Stable\": value = self.mean\n",
    "        return(value)"
   ]
  },
  {
   "cell_type": "markdown",
   "metadata": {},
   "source": [
    "\n",
    "## Environments for the different papers\n",
    "Below you will find three sets of n-arm bandits one for every paper we replicate in this document.  \n",
    "\n",
    "### 1. Bandits_D_M: Denrell and March (2001)\n",
    "This class creates the environment for the Denrell and March (2001) paper. In specific, two bandits. One with stable output and one with variable output. Both bandits have the same mean.\n",
    "\n",
    "#### Measure\n",
    "This is a wrapper function. The objective is that the agents ask the bandits class and not the specific bandit for the measurement. Then the bandits class is in charge of asking its bandit for the performance value. "
   ]
  },
  {
   "cell_type": "code",
   "execution_count": 3,
   "metadata": {},
   "outputs": [],
   "source": [
    "class bandits_D_M:\n",
    "    def __init__(self, means, noise): \n",
    "        self.means = means\n",
    "        self.arms = [bandit(mean = means[0], noise = noise, style = \"Normal\"),\n",
    "                     bandit(mean = means[1], noise = 0.0, style = \"Stable\")]\n",
    "        self.means = np.zeros(len(self.arms))\n",
    "        for i in range(len(self.arms)): self.means[i] = self.arms[i].mean\n",
    "    def measure(self, choice): return(self.arms[choice].measure())\n",
    "    def reset(self): pass # needed for compatibility"
   ]
  },
  {
   "cell_type": "markdown",
   "metadata": {},
   "source": [
    "###  2. Bandits_P_L: Posen and Levinthal (2012)\n",
    "This class creates the environment for the Posen and Levinthal (2012) paper. In specific, 10 bandits with probabilities of drawing 1s drawn from a Beta(2,2) distribution.\n",
    "\n",
    "#### Measure\n",
    "This is a wrapper function. The objective is that the agents ask the bandits class and not the specific bandit for the measurement. Then the bandits class is in charge of asking its bandit for the performance value.  \n",
    "The second role of this function is to determine if a bandit needs to be changed and if so change it. This process is what Posen and Levinthal call turbulence and is determined by the eta parameter. \n",
    "\n",
    "#### Make Bandit\n",
    "This function creates the bandits. As in this model the bandits need to be remade on every iteration, we need a simple way of remaking the bandits. These function makes a new bandit and stores the mean value of its output.  \n",
    "\n",
    "#### Reset\n",
    "This function makes new bandits for every arm of the bandit. "
   ]
  },
  {
   "cell_type": "code",
   "execution_count": 4,
   "metadata": {},
   "outputs": [],
   "source": [
    "class bandits_P_L:\n",
    "    def __init__(self, num_bandits, eta=0.0):\n",
    "        self.eta = eta\n",
    "        self.means = np.zeros(num_bandits)\n",
    "        self.arms = ['']*num_bandits\n",
    "        for i in range(num_bandits): self.make_bandit(i)\n",
    "    def make_bandit(self, position):\n",
    "        self.means[position] = np.random.beta(a=2.0, b=2.0)\n",
    "        self.arms[position] = bandit(mean = self.means[position], noise = 0.0, style = \"Beta\")\n",
    "    def measure(self, choice):\n",
    "        # Change some arms?\n",
    "        if np.random.binomial(n=1, p = self.eta):\n",
    "            for i in range(len(self.arms)):\n",
    "                if np.random.binomial(n=1, p = 0.5): self.make_bandit(i)\n",
    "        return(self.arms[choice].measure())\n",
    "    def reset(self): \n",
    "        for i in range(len(self.arms)): self.make_bandit(i)"
   ]
  },
  {
   "cell_type": "markdown",
   "metadata": {},
   "source": [
    "###  3. Bandits_P_S: Puranam and Swamy (2016)\n",
    "This class creates the environment for the Puranam and Swamy (2012) paper. In specific, 4 bandits with two entries each and with means specified from game thoerretic values.\n",
    "\n",
    "#### Measure\n",
    "The bandits in Puranam and Swamy are much simpler than our prior examples. The model does have a complication due to the coupled learning but we will present this later on. \n",
    "#### Make Bandit\n",
    "There are technically just two bandits, even though Puranam and Swamy model m=10. One bandit gives a high output when both choices are the same and accurate, and if not it gives a low value. \n",
    "#### Reset\n",
    "This function does not operate. "
   ]
  },
  {
   "cell_type": "code",
   "execution_count": 5,
   "metadata": {},
   "outputs": [],
   "source": [
    "class bandits_P_S:\n",
    "    def __init__(self, num_bandits, bingo, val_max, val_min): \n",
    "        self.means = val_min*np.ones(num_bandits)\n",
    "        self.means[bingo] = val_max\n",
    "        self.arms = [bandit(mean = val_max, noise = 0.0, style = \"Stable\"),\n",
    "                     bandit(mean = val_min, noise = 0.0, style = \"Stable\")]\n",
    "        self.bingo = bingo\n",
    "    def measure(self, choice1, choice2): \n",
    "        if choice1 == choice2 and choice1 == self.bingo: return(self.arms[0].measure())\n",
    "        else: return(self.arms[1].measure())\n",
    "    def reset(self): pass # needed for compatibility"
   ]
  },
  {
   "cell_type": "markdown",
   "metadata": {},
   "source": [
    "## Run Simulation\n",
    "This tutorail runs several simulations. All of them follow the same structure, they include agents, and environments. The agents explore the environment for a number of periods and then this is repeated again. The iterated process is stored and used for our analyses.  \n",
    "This method automates this process to avoid repeating every time. "
   ]
  },
  {
   "cell_type": "code",
   "execution_count": 6,
   "metadata": {},
   "outputs": [],
   "source": [
    "def run_simulation(num_reps, num_periods, Alice, options, start_attraction, n=1):\n",
    "    all_payoffs = np.zeros((num_periods))\n",
    "    all_choices = np.zeros(num_periods)\n",
    "    last_choices = []\n",
    "    if n == 1:\n",
    "        all_knowledge = np.zeros(num_periods)\n",
    "        all_RE = np.zeros(num_periods)\n",
    "        all_aspiration = [0.0]\n",
    "    if n > 1:\n",
    "        all_knowledge = np.zeros((num_periods,n))\n",
    "        all_RE = np.zeros((num_periods,n))\n",
    "        all_aspiration = [0.0]*n\n",
    "    last_choices = []\n",
    "    for j in range(num_reps):\n",
    "        Alice.reset(means = options.means, att = start_attraction)     \n",
    "        options.reset()\n",
    "        choice, payoff, knowledge, re = Alice.learn(num_periods, options)\n",
    "        all_payoffs = np.add(all_payoffs, payoff)\n",
    "        all_knowledge = np.add(all_knowledge, np.array(knowledge))\n",
    "        all_RE = np.add(all_RE, np.array(re))\n",
    "        # Specific for this paper\n",
    "        all_choices = np.add(all_choices, choice)\n",
    "        if Alice.style_choose == \"aspiration\": all_aspiration += Alice.aspiration\n",
    "        last_choices.append(choice[-1])\n",
    "    return([all_payoffs, all_knowledge, all_RE, all_choices, all_aspiration, last_choices])"
   ]
  },
  {
   "cell_type": "markdown",
   "metadata": {},
   "source": [
    "\n",
    "# Denrell and March (2001)\n",
    "\n",
    "With these two building blocks, we can run a simulation to replicate the main finding of Denrell and March (2001).\n",
    "\n",
    "## 1. Initialize values\n",
    "We start by initailizing the attributes of the simulation. The agents are given a set of tau and phi. The agents will learn for 50 periods and the results replicated 2500 times. We specify the noise to be 1, that means the bandits will draw from values between 0 and 1. Changes in the tau, phi, noise, and bandit style should change the learning. Changes in the number of repetitions lead to more noisy results.\n",
    "\n",
    "**Note:** The bandits were specificed as outputing 0 and 1. Posen and Denrell mix their outputs as their environment outputs -1 and 1. I go back to that notation when I estimate the accumulated payoff. However for the bulk of the simulation, I estimate the probability of success only."
   ]
  },
  {
   "cell_type": "code",
   "execution_count": 7,
   "metadata": {},
   "outputs": [],
   "source": [
    "## Bandits\n",
    "X = 10.0\n",
    "Y = 10.0\n",
    "S = 10.0\n",
    "num_bandits = 2\n",
    "## Agents\n",
    "style_update = \"aspiration\" # \"constant\", \"over k\", or \"aspiration\"\n",
    "style_choose =  \"aspiration\" # \"softmax\", \"greedy\", \"aspiration\" or e value as float for e-greedy\n",
    "a = 0.5\n",
    "b = 0.5\n",
    "start_attraction = np.ones(num_bandits)/num_bandits # can use a list of values\n",
    "## Simulation\n",
    "num_periods = 50\n",
    "num_reps = 5000"
   ]
  },
  {
   "cell_type": "markdown",
   "metadata": {},
   "source": [
    "## 2. Initialize agent and Bandits\n",
    "We create one agent, Alice and initialize the environment for the paper. The bandits are created by specifying first two agents one drawn from an uniform distribution and the second one from a stable value."
   ]
  },
  {
   "cell_type": "code",
   "execution_count": 8,
   "metadata": {},
   "outputs": [],
   "source": [
    "Alice = agent(tau = a, phi = b, style_update = style_update, style_choose = style_choose)\n",
    "options = bandits_D_M(means = [X,Y], noise = S)"
   ]
  },
  {
   "cell_type": "markdown",
   "metadata": {},
   "source": [
    "## 3. Run simulation\n",
    "Having the agent and environment we can run a simulation. We give the environment and the agents and run it.  \n",
    "\n",
    "* **This takes some time.**"
   ]
  },
  {
   "cell_type": "code",
   "execution_count": 9,
   "metadata": {},
   "outputs": [],
   "source": [
    "payoffs, knowledge, RE, choices, aspiration, last_choices = run_simulation(num_reps, num_periods, Alice, options, start_attraction, n = 1)"
   ]
  },
  {
   "cell_type": "markdown",
   "metadata": {},
   "source": [
    "## 4. Display results\n",
    "\n",
    "### Choice as function of time\n",
    "We present two plots. The first one presents the option chosen on every period. As on every period the agent can choose 0 or 1, what we plot in the y-axis is the number of times the stable option is chosen. As expected, the first period starts at 50% of the time and it increases towards a 100% as time goes by.\n"
   ]
  },
  {
   "cell_type": "code",
   "execution_count": 10,
   "metadata": {
    "scrolled": true
   },
   "outputs": [
    {
     "data": {
      "text/plain": [
       "<matplotlib.collections.PathCollection at 0xe890b4c860>"
      ]
     },
     "execution_count": 10,
     "metadata": {},
     "output_type": "execute_result"
    },
    {
     "data": {
      "image/png": "[encoded data removed]",
      "text/plain": [
       "<Figure size 432x288 with 1 Axes>"
      ]
     },
     "metadata": {
      "needs_background": "light"
     },
     "output_type": "display_data"
    }
   ],
   "source": [
    "plt.scatter(range(num_periods), choices)"
   ]
  },
  {
   "cell_type": "markdown",
   "metadata": {},
   "source": [
    "### Performance as function of time\n",
    "The second graph presents the average payoff. This looks like a funnel, narrowing from left to right. As the stable option is chosen more and more, the variance in the performanc decreases. "
   ]
  },
  {
   "cell_type": "code",
   "execution_count": 11,
   "metadata": {},
   "outputs": [
    {
     "data": {
      "text/plain": [
       "<matplotlib.collections.PathCollection at 0xe890bef4a8>"
      ]
     },
     "execution_count": 11,
     "metadata": {},
     "output_type": "execute_result"
    },
    {
     "data": {
      "image/png": "[encoded data removed]",
      "text/plain": [
       "<Figure size 432x288 with 1 Axes>"
      ]
     },
     "metadata": {
      "needs_background": "light"
     },
     "output_type": "display_data"
    }
   ],
   "source": [
    "plt.scatter(range(num_periods), payoffs)"
   ]
  },
  {
   "cell_type": "markdown",
   "metadata": {},
   "source": [
    "### Summary Values  \n",
    "#### Fraction of individuals who choose the risky alternative\n",
    "Both options have the same performance. Nonetheless, the risky option is chosen less than 1% of the time after 50 periods when b = 0.5, and around 30% of time if b = 0.1. X=Y=S=10.0 "
   ]
  },
  {
   "cell_type": "code",
   "execution_count": 12,
   "metadata": {},
   "outputs": [
    {
     "data": {
      "text/plain": [
       "0.5000000000000004"
      ]
     },
     "execution_count": 12,
     "metadata": {},
     "output_type": "execute_result"
    }
   ],
   "source": [
    "100*(1-float(sum(last_choices))/num_reps)"
   ]
  },
  {
   "cell_type": "markdown",
   "metadata": {},
   "source": [
    "#### Average aspiration level at the end of each simulation   \n",
    "The average aspiration at the end of each simulation was:"
   ]
  },
  {
   "cell_type": "code",
   "execution_count": 13,
   "metadata": {},
   "outputs": [
    {
     "data": {
      "text/plain": [
       "array([9.99758396])"
      ]
     },
     "execution_count": 13,
     "metadata": {},
     "output_type": "execute_result"
    }
   ],
   "source": [
    "aspiration/num_reps"
   ]
  },
  {
   "cell_type": "markdown",
   "metadata": {},
   "source": [
    "## 5. Exercise\n",
    "Find the how high the mean of the variable option needs to be in order to be chosen 50% of the time at the end of the simulation. How does it related to the amount of noise in the option? How does it change if normal and not uniform noise is used? Or if we use the 1/(k+1) updating instead of constant updating?"
   ]
  },
  {
   "cell_type": "markdown",
   "metadata": {},
   "source": [
    "# Posen and Levinthal (2012)\n",
    "With these two building blocks, we can run a simulation to replicate the main findings of Posen and Levinthal (2021).\n",
    "\n",
    "## 1. Initialize values\n",
    "We start by initailizing the attributes of the simulation. The agents are given a tau but do not require phi because the learning method follows the 1/k+1 weighting. The agents will learn for 500 periods and the results replicated 1000 times. There is no noise value here because in this paper the bandits either output a positive value or not. Changes in the tau, and bandit style should change the learning. Changes in the number of repetitions lead to more noisy results.\n",
    "\n",
    "**Note:** A phi value was added in case you want to explore how agents would differ if the do not update with the 1/k+1 mode.  "
   ]
  },
  {
   "cell_type": "code",
   "execution_count": 14,
   "metadata": {},
   "outputs": [],
   "source": [
    "## Bandit\n",
    "eta = 0.0\n",
    "num_bandits = 10\n",
    "## Agents\n",
    "style_update = \"over k\" # \"constant\", \"over k\" or \"aspiration\" \n",
    "style_choose = \"softmax\" # \"softmax\", \"greedy\", \"aspiration\", or e value as float for e-greedy\n",
    "phi = 0.5 # not needed in \"over k\" updating mode\n",
    "tau = 0.5/num_bandits\n",
    "start_attraction = np.ones(num_bandits)/2.0\n",
    "## Simulation\n",
    "num_periods = 500\n",
    "num_reps = 1000"
   ]
  },
  {
   "cell_type": "markdown",
   "metadata": {},
   "source": [
    "## 2. Initialize agent and Bandits\n",
    "Having the agent and environment we can run a simulation. We give the environment and the agents and run it. "
   ]
  },
  {
   "cell_type": "code",
   "execution_count": 15,
   "metadata": {},
   "outputs": [],
   "source": [
    "Alice = agent(tau = tau, phi = phi, style_update = style_update, style_choose = style_choose)\n",
    "options = bandits_P_L(num_bandits = num_bandits, eta = eta)"
   ]
  },
  {
   "cell_type": "markdown",
   "metadata": {},
   "source": [
    "## 3. Run simulation\n",
    "Having the agent and environment we can run a simulation. We initialize two arrays, one for payoff and one for choices. Additionally, we create an empty list to store the last choices of the agents and one value to save the attraction to the option with variable output after every replication of the simulation is finished.\n",
    "\n",
    "This takes some time."
   ]
  },
  {
   "cell_type": "code",
   "execution_count": 16,
   "metadata": {},
   "outputs": [],
   "source": [
    "payoffs, knowledge, RE, choices, aspiration, last_choices = run_simulation(num_reps, num_periods, Alice, options, start_attraction, n =1)"
   ]
  },
  {
   "cell_type": "markdown",
   "metadata": {},
   "source": [
    "## 4. Display results\n",
    "\n",
    "### Amount of exploration\n",
    "First we present the amount of exploration done by the agents. "
   ]
  },
  {
   "cell_type": "code",
   "execution_count": 17,
   "metadata": {
    "scrolled": true
   },
   "outputs": [
    {
     "data": {
      "text/plain": [
       "array([1000.,  545.,  425.,  379.,  342.,  304.,  284.,  260.,  249.,\n",
       "        226.,  241.,  218.,  194.,  191.,  178.,  173.,  174.,  196.,\n",
       "        184.,  179.,  175.,  189.,  167.,  162.,  141.,  166.,  155.,\n",
       "        173.,  167.,  158.,  142.,  151.,  156.,  149.,  143.,  150.,\n",
       "        134.,  141.,  146.,  146.,  143.,  139.,  145.,  140.,  155.,\n",
       "        150.,  127.,  151.,  166.,  162.,  161.,  136.,  135.,  148.,\n",
       "        128.,  135.,  151.,  127.,  147.,  152.,  152.,  137.,  137.,\n",
       "        138.,  143.,  143.,  140.,  145.,  150.,  150.,  140.,  142.,\n",
       "        144.,  144.,  141.,  150.,  147.,  154.,  137.,  137.,  152.,\n",
       "        155.,  143.,  142.,  158.,  149.,  144.,  172.,  144.,  150.,\n",
       "        156.,  157.,  154.,  154.,  146.,  148.,  157.,  171.,  159.,\n",
       "        164.,  141.,  133.,  146.,  158.,  149.,  144.,  131.,  133.,\n",
       "        160.,  156.,  138.,  141.,  139.,  150.,  165.,  161.,  159.,\n",
       "        163.,  153.,  144.,  152.,  153.,  136.,  153.,  146.,  148.,\n",
       "        132.,  144.,  159.,  157.,  138.,  163.,  167.,  153.,  152.,\n",
       "        160.,  142.,  146.,  158.,  177.,  157.,  138.,  151.,  170.,\n",
       "        156.,  158.,  163.,  158.,  159.,  157.,  156.,  167.,  166.,\n",
       "        158.,  147.,  152.,  167.,  176.,  148.,  158.,  170.,  163.,\n",
       "        153.,  148.,  139.,  159.,  157.,  178.,  158.,  163.,  145.,\n",
       "        156.,  149.,  156.,  166.,  163.,  169.,  169.,  152.,  145.,\n",
       "        153.,  177.,  172.,  168.,  161.,  146.,  151.,  164.,  160.,\n",
       "        173.,  158.,  159.,  173.,  161.,  161.,  161.,  155.,  147.,\n",
       "        172.,  156.,  167.,  156.,  158.,  162.,  159.,  160.,  152.,\n",
       "        166.,  183.,  167.,  162.,  158.,  170.,  174.,  139.,  159.,\n",
       "        169.,  158.,  145.,  156.,  161.,  171.,  168.,  143.,  158.,\n",
       "        153.,  159.,  154.,  146.,  136.,  155.,  163.,  166.,  159.,\n",
       "        162.,  158.,  171.,  171.,  171.,  159.,  149.,  163.,  160.,\n",
       "        147.,  172.,  162.,  156.,  167.,  158.,  177.,  168.,  171.,\n",
       "        162.,  147.,  161.,  158.,  168.,  164.,  178.,  161.,  162.,\n",
       "        147.,  157.,  147.,  159.,  154.,  170.,  148.,  165.,  158.,\n",
       "        154.,  161.,  153.,  167.,  162.,  167.,  182.,  171.,  142.,\n",
       "        145.,  149.,  159.,  164.,  158.,  179.,  177.,  155.,  164.,\n",
       "        164.,  160.,  173.,  150.,  151.,  173.,  185.,  179.,  155.,\n",
       "        161.,  176.,  173.,  171.,  181.,  178.,  147.,  164.,  160.,\n",
       "        168.,  162.,  182.,  169.,  153.,  169.,  167.,  186.,  175.,\n",
       "        173.,  161.,  166.,  190.,  184.,  173.,  166.,  166.,  186.,\n",
       "        168.,  175.,  173.,  177.,  185.,  168.,  176.,  172.,  165.,\n",
       "        181.,  176.,  169.,  166.,  163.,  171.,  179.,  173.,  159.,\n",
       "        161.,  177.,  170.,  163.,  201.,  182.,  165.,  183.,  162.,\n",
       "        171.,  167.,  156.,  156.,  183.,  178.,  175.,  169.,  189.,\n",
       "        190.,  185.,  180.,  176.,  177.,  167.,  169.,  164.,  184.,\n",
       "        178.,  180.,  174.,  178.,  175.,  184.,  165.,  186.,  159.,\n",
       "        155.,  156.,  179.,  180.,  183.,  183.,  182.,  185.,  191.,\n",
       "        176.,  179.,  180.,  183.,  190.,  187.,  184.,  162.,  180.,\n",
       "        180.,  178.,  163.,  177.,  181.,  185.,  184.,  179.,  188.,\n",
       "        169.,  181.,  175.,  166.,  185.,  207.,  177.,  174.,  184.,\n",
       "        174.,  183.,  205.,  194.,  177.,  178.,  179.,  178.,  185.,\n",
       "        180.,  181.,  159.,  182.,  183.,  169.,  197.,  186.,  179.,\n",
       "        181.,  172.,  180.,  185.,  183.,  197.,  187.,  176.,  175.,\n",
       "        165.,  177.,  190.,  172.,  173.,  198.,  174.,  197.,  183.,\n",
       "        177.,  179.,  159.,  166.,  188.,  185.,  173.,  181.,  192.,\n",
       "        190.,  173.,  180.,  170.,  173.,  169.,  160.,  186.,  183.,\n",
       "        179.,  186.,  177.,  166.,  166.,  196.,  201.,  178.,  173.,\n",
       "        188.,  188.,  194.,  187.,  199.,  195.,  191.,  177.,  173.,\n",
       "        207.,  189.,  159.,  183.,  171.,  172.,  165.,  177.,  181.,\n",
       "        200.,  192.,  169.,  188.,  180.])"
      ]
     },
     "execution_count": 17,
     "metadata": {},
     "output_type": "execute_result"
    }
   ],
   "source": [
    "RE"
   ]
  },
  {
   "cell_type": "markdown",
   "metadata": {},
   "source": [
    "### Knowledge over time\n",
    "Somthing quite sad happens for the amount of knowledge over time in this paper. Given the way the Bush Mossteller equation is updated, 1/k+1 and not with a constant update percentage, initial values have much more weight that later values. This leads to the system to erode knowledge. **Fast!**"
   ]
  },
  {
   "cell_type": "code",
   "execution_count": 18,
   "metadata": {},
   "outputs": [
    {
     "data": {
      "text/plain": [
       "<matplotlib.collections.PathCollection at 0xe890c14be0>"
      ]
     },
     "execution_count": 18,
     "metadata": {},
     "output_type": "execute_result"
    },
    {
     "data": {
      "image/png": "[encoded data removed]",
      "text/plain": [
       "<Figure size 432x288 with 1 Axes>"
      ]
     },
     "metadata": {
      "needs_background": "light"
     },
     "output_type": "display_data"
    }
   ],
   "source": [
    "plt.scatter(range(num_periods), knowledge)"
   ]
  },
  {
   "cell_type": "markdown",
   "metadata": {},
   "source": [
    "### Probability of Getting a Reward\n",
    "The second graph presents the average payoff. This looks like a funnel, narrowing from left to right. As the stable option is chosen more and more, the variance in the performanc decreases. "
   ]
  },
  {
   "cell_type": "code",
   "execution_count": 19,
   "metadata": {},
   "outputs": [
    {
     "data": {
      "text/plain": [
       "<matplotlib.collections.PathCollection at 0xe8910adc88>"
      ]
     },
     "execution_count": 19,
     "metadata": {},
     "output_type": "execute_result"
    },
    {
     "data": {
      "image/png": "[encoded data removed]",
      "text/plain": [
       "<Figure size 432x288 with 1 Axes>"
      ]
     },
     "metadata": {
      "needs_background": "light"
     },
     "output_type": "display_data"
    }
   ],
   "source": [
    "plt.scatter(range(num_periods), payoffs)"
   ]
  },
  {
   "cell_type": "markdown",
   "metadata": {},
   "source": [
    "### Summary variables\n",
    "#### Total accumulated payoff\n",
    "The bandits in this paper give a payoff of 1 or -1, so one needs to recalculate the total payoff. So that it matches what is shown in the paper. In the simulation I store the probability of getting a 1, here, the actual expected value.\n",
    "\n",
    "The result shown below is the performance of Figure 1 in Posen and Levinthal (2012)."
   ]
  },
  {
   "cell_type": "code",
   "execution_count": 20,
   "metadata": {},
   "outputs": [
    {
     "name": "stdout",
     "output_type": "stream",
     "text": [
      "281.026\n"
     ]
    }
   ],
   "source": [
    "print(sum(2*payoffs-num_reps)/num_reps)"
   ]
  },
  {
   "cell_type": "markdown",
   "metadata": {},
   "source": [
    "#### Fraction of exploration events\n",
    "The average percentage of exploration events during the 500 periods, see Figure 1 in Posen and Levinthal (2012) for comparison. "
   ]
  },
  {
   "cell_type": "code",
   "execution_count": 21,
   "metadata": {},
   "outputs": [
    {
     "name": "stdout",
     "output_type": "stream",
     "text": [
      "0.170118\n"
     ]
    }
   ],
   "source": [
    "print(sum(RE)/(num_reps*num_periods))"
   ]
  },
  {
   "cell_type": "markdown",
   "metadata": {},
   "source": [
    "#### Knowledge  \n",
    "The average SSE knowledge at different stages of the simulation. This result is shown in Figure 1 of Posen and Levinthal (2012) and in Figure 4 when the turbulence changes."
   ]
  },
  {
   "cell_type": "code",
   "execution_count": 22,
   "metadata": {},
   "outputs": [
    {
     "name": "stdout",
     "output_type": "stream",
     "text": [
      "Period 400: 0.5891095586212611\n",
      "Period 500: 0.5939848971054563\n"
     ]
    }
   ],
   "source": [
    "print(\"Period 400: \" + str(knowledge[-101]/num_reps))\n",
    "print(\"Period 500: \" + str(knowledge[-1]/num_reps))"
   ]
  },
  {
   "cell_type": "markdown",
   "metadata": {},
   "source": [
    "## 5. Exercise\n",
    "What would happen if Posen and Levinthal had chosen other learning rules? They studied e-greedy but how about constant update? How woud it affect the erosion of knowledge and the adaptation of the agents?  "
   ]
  },
  {
   "cell_type": "markdown",
   "metadata": {},
   "source": [
    "# Puranam and Swamy (2016)\n",
    "In contrast to the prior papers, Phanisah and Maurati a coupled learning process where the decisions of one agent interact with the decisions of another to achieve high performance.  \n",
    "The fact that we now have two agents instead of one leads to create a new class. THis class is represents the organization and it is a wrapper structure so that when we run the simulation, the simulation function believes as if it is interacting with one agent, even though there are two.  \n",
    "\n",
    "## 1. Organization class\n",
    "### 1.1 Initialization\n",
    "The organization class is initialized with two agents, Alice and Bob. \n",
    "  \n",
    "### 1.2 Learn function\n",
    "The learn function is functionally equivalent to the learning function of the individual agents. However, there are replicated values stored. This is due to the fact that we need each agent to make a choice. The two choices are then sent to the bandit to get one payoff. The oayoff then is used to update the agent's attractions. Finally, we store instead of the choices, only whether the agents had the same choice in the specific period. We also store duplicates of the knowledge SSE per period and the exploration in the period. \n",
    "  \n",
    "### 1.3 Reset\n",
    "The reset function is different from the prior cases. Here the values used to initialize the attractions at the start of every simulation are different for each agent. The agents in Puranam and Swamy (2016) have their attractions directly initialized every time the simulation starts. Each bandit gets a different and specific attraction. In contrast to the prior papers where beliefs at the start of the simulation for every bandit were homogenous, here the key aspect Phanish and Murati study is how differences in the initial representation affect coordination and thus require that the agents have very specific starting beliefs. "
   ]
  },
  {
   "cell_type": "code",
   "execution_count": 23,
   "metadata": {},
   "outputs": [],
   "source": [
    "class organization():\n",
    "    def __init__(self, Alice, Bob):\n",
    "        self.Alice = Alice\n",
    "        self.Bob = Bob\n",
    "        self.style_choose = self.Alice.style_choose\n",
    "    def learn(self, num_periods, bandits):\n",
    "        choices = []\n",
    "        coordination = []\n",
    "        payoffs = []\n",
    "        knowledge = []\n",
    "        RE = [[1,1]]\n",
    "        for i in range(num_periods):\n",
    "            choice1 = self.Alice.choose()\n",
    "            choice2 = self.Bob.choose()\n",
    "            payoff = bandits.measure(choice1, choice2)\n",
    "            coordinate = 1*(choice1==choice2 and choice1 == np.argmax(bandits.means))\n",
    "            self.Alice.update(choice1, payoff)\n",
    "            self.Bob.update(choice2, payoff)\n",
    "            nugget1 = 1-sum((self.Alice.attraction-bandits.means)**2)\n",
    "            nugget2 = 1-sum((self.Bob.attraction-bandits.means)**2)\n",
    "            choices.append([choice1, choice2])\n",
    "            payoffs.append(payoff)\n",
    "            knowledge.append([nugget1, nugget2])\n",
    "            coordination.append(coordinate)\n",
    "            if len(choices) > 1:\n",
    "                re1 = 1*(choices[-1][0] != choices[-2][0])\n",
    "                re2 = 1*(choices[-1][1] != choices[-2][1])\n",
    "                RE.append([re1, re2])\n",
    "        if self.style_choose == \"aspiration\":\n",
    "            self.aspiration = [self.Alice.aspiration, self.Bob.aspiration]\n",
    "        return([coordination, payoffs, knowledge, RE])\n",
    "    def reset(self, means, att):\n",
    "        self.Alice.reset(means, att[0])\n",
    "        self.Bob.reset(means, att[1])"
   ]
  },
  {
   "cell_type": "markdown",
   "metadata": {},
   "source": [
    "## 2. Initialize values\n",
    "In this simulation we need more parameters. We start with the bandit.\n",
    "\n",
    "### 2.1 Bandit\n",
    "Tehr are ten bandits. The bandits have a maximum value that appears when both agents choose option 2 (bingo!). IF not then a minimum value is given. Here, in contrast to Posen and Levinthal, I input the maximum and minimum values used by Phanish and Murati."
   ]
  },
  {
   "cell_type": "code",
   "execution_count": 24,
   "metadata": {},
   "outputs": [],
   "source": [
    "num_bandits = 10\n",
    "val_max = 1.0\n",
    "val_min = -1.0\n",
    "bingo = 2\n",
    "flop = 9"
   ]
  },
  {
   "cell_type": "markdown",
   "metadata": {},
   "source": [
    "### 2.2 Agents\n",
    "the agents have constant phi values, and use softmax. This paper has the peculiarity that the agent's attractions are initialized at the start of the simulation to precise values. For this reason it uses the style_start = \"fixed\". That allows the organization to set the beliefs every time the simulation starts again.  \n",
    "In addition to tau and phi, in this paper there is a p value that represent how certain the agents are of their initial believes (1 for full certainty, 0 for no certainty)."
   ]
  },
  {
   "cell_type": "code",
   "execution_count": 25,
   "metadata": {},
   "outputs": [],
   "source": [
    "style_update = \"constant\" # \"constant\", \"over k\" or \"aspiration\" \n",
    "style_choose = \"softmax\" # \"softmax\", \"greedy\", \"aspiration\", or e value as float for e-greedy\n",
    "style_start = \"fixed\"\n",
    "phi = 0.25 # not needed in \"over k\" updating mode\n",
    "tau = 0.1\n",
    "p = 0.8"
   ]
  },
  {
   "cell_type": "markdown",
   "metadata": {},
   "source": [
    "### 2.3 Simulation\n",
    "In the paper, the simulation is run for 100 periods and 5k replications. Here, I do the same but if you run it online, it might be better to run less. The simulation is quite noisy as it has Bernoulli bandits but given that there are two agents, it takes much longer to run."
   ]
  },
  {
   "cell_type": "code",
   "execution_count": 26,
   "metadata": {},
   "outputs": [],
   "source": [
    "num_periods = 100\n",
    "num_reps = 5000 # 5000 typical"
   ]
  },
  {
   "cell_type": "markdown",
   "metadata": {},
   "source": [
    "### 2.4 Coupled learning\n",
    "The agents have opinions about the bandits'payoffs before every simulation. How strong or weak the opinion is depends on the parameter p.   \n",
    "\n",
    "The belief are negative for every but one arm of the N-arm bandit. The chosen arm has a high belief. There are three different ways to initialize an agent, with good beliefs, bad beliefs or uniform beliefs. The combinations of these three are used to understand the performance implications of the initial beliefs in an organization. \n",
    "\n",
    "#### 2.4.1 Strength of initial beliefs\n",
    "The agents have beliefs of different strength (p), The agents initialize every bandit as a low value except the one one they believe has the highest value. Some agents have good beliefs, some bad, and some have no beliefs (). "
   ]
  },
  {
   "cell_type": "code",
   "execution_count": 27,
   "metadata": {},
   "outputs": [],
   "source": [
    "max_setting = (p*val_max + (1-p)*val_min)\n",
    "min_setting = (p*val_min+(1-p)*val_max)"
   ]
  },
  {
   "cell_type": "markdown",
   "metadata": {},
   "source": [
    "#### 2.4.2 Good, bad, and uniform beliefs\n",
    "The agents with good beliefs have an accurate understanding of the payoff distribution. The agents with bad beliefs start thinking that a bandit has a high payoff but it does not. The agents with uniform beliefs have uniformly high beliefs for all bandits. "
   ]
  },
  {
   "cell_type": "code",
   "execution_count": 28,
   "metadata": {},
   "outputs": [],
   "source": [
    "# Good beliefs\n",
    "good = min_setting*np.ones(num_bandits)\n",
    "good[bingo] = max_setting\n",
    "# Bad beliefs\n",
    "bad = min_setting*np.ones(num_bandits)\n",
    "bad[flop] = max_setting\n",
    "# Uniform beliefs\n",
    "uniform = max_setting*np.ones(num_bandits)/num_bandits"
   ]
  },
  {
   "cell_type": "markdown",
   "metadata": {},
   "source": [
    "#### 2.4.3 Organizational setting\n",
    "Finally, we create types of organizational beliefs. There are three types, homogenously bad beleifs, uniform beliefs, and heterogenous beliefs with one agent having good beliefs and bad beliefs. "
   ]
  },
  {
   "cell_type": "code",
   "execution_count": 29,
   "metadata": {},
   "outputs": [],
   "source": [
    "org_setting1 = [bad, bad]\n",
    "org_setting2 = [uniform, uniform]\n",
    "org_setting3 = [good, bad]"
   ]
  },
  {
   "cell_type": "markdown",
   "metadata": {},
   "source": [
    "## 3. Initialize agent and Bandits\n",
    "Having the organization and environment we can run a simulation. We give the environment and the organization runs it by asking each agetn for its choices. "
   ]
  },
  {
   "cell_type": "code",
   "execution_count": 30,
   "metadata": {},
   "outputs": [],
   "source": [
    "Alice = agent(tau = tau, phi = phi, style_update = style_update, style_choose = style_choose, style_start = \"fixed\")\n",
    "Bob = agent(tau = tau, phi = phi, style_update = style_update, style_choose = style_choose, style_start = \"fixed\")\n",
    "Inc = organization(Alice = Alice, Bob = Bob)\n",
    "options = bandits_P_S(num_bandits = num_bandits, bingo = bingo, val_max = val_max, val_min = val_min)"
   ]
  },
  {
   "cell_type": "markdown",
   "metadata": {},
   "source": [
    "## 4. Run simulation\n",
    "We run three simulation. One for each organizational setting. This is usefulto get the one plot of Figure 2a and 2b at once. Given that to make the plot we need two simulation, a third does not increase the time too much. It does take long. "
   ]
  },
  {
   "cell_type": "code",
   "execution_count": 31,
   "metadata": {},
   "outputs": [],
   "source": [
    "payoffs, kn, RE, coordination, asp, last = run_simulation(num_reps, num_periods, Inc, options, org_setting1, 2)\n",
    "payoffs2, kn2, RE2, coordination2, asp2, last2 = run_simulation(num_reps, num_periods, Inc, options, org_setting2, 2)\n",
    "payoffs3, kn3, RE3, coordination3, asp3, last3 = run_simulation(num_reps, num_periods, Inc, options, org_setting3, 2)"
   ]
  },
  {
   "cell_type": "markdown",
   "metadata": {},
   "source": [
    "## 5. Display results: Relative coordination\n",
    "We present just the results shown on Figures 2a and 2b. These results relate to the percentage of times the agents chose the correct answer. However, there is more data available in case you interested. We log the amount of exploration each agent does, the accuracy of their knowledge, the amount of coordinatation (i.e. times the chose the correct bandit), the aspiration levels, and last choices. "
   ]
  },
  {
   "cell_type": "code",
   "execution_count": 32,
   "metadata": {},
   "outputs": [
    {
     "data": {
      "text/plain": [
       "<matplotlib.collections.PathCollection at 0xe88daf3978>"
      ]
     },
     "execution_count": 32,
     "metadata": {},
     "output_type": "execute_result"
    },
    {
     "data": {
      "image/png": "[encoded data removed]",
      "text/plain": [
       "<Figure size 432x288 with 1 Axes>"
      ]
     },
     "metadata": {
      "needs_background": "light"
     },
     "output_type": "display_data"
    }
   ],
   "source": [
    "plt.scatter(range(num_periods), (coordination-coordination2)/num_reps, c = \"blue\")"
   ]
  },
  {
   "cell_type": "code",
   "execution_count": 33,
   "metadata": {},
   "outputs": [
    {
     "data": {
      "text/plain": [
       "<matplotlib.collections.PathCollection at 0xe88db4de48>"
      ]
     },
     "execution_count": 33,
     "metadata": {},
     "output_type": "execute_result"
    },
    {
     "data": {
      "image/png": "[encoded data removed]",
      "text/plain": [
       "<Figure size 432x288 with 1 Axes>"
      ]
     },
     "metadata": {
      "needs_background": "light"
     },
     "output_type": "display_data"
    }
   ],
   "source": [
    "plt.scatter(range(num_periods), (coordination-coordination3)/num_reps, c = \"red\")"
   ]
  },
  {
   "cell_type": "markdown",
   "metadata": {},
   "source": [
    "# References\n",
    "\n",
    "* Denrell, J., & March, J. G. (2001). Adaptation as information restriction: The hot stove effect. Organization Science, 12(5), 523-538.   \n",
    "* Posen, H. E., & Levinthal, D. A. (2012). Chasing a moving target: Exploitation and exploration in dynamic environments. Management Science, 58(3), 587-601.\n",
    "* Puranam, P., & Swamy, M. (2016). How initial representations shape coupled learning processes. Organization Science, 27(2), 323-335.\n",
    "\n",
    "**Note:** The code below builds the table of contents"
   ]
  },
  {
   "cell_type": "code",
   "execution_count": 35,
   "metadata": {},
   "outputs": [
    {
     "data": {
      "application/javascript": [
       "$.getScript('https://kmahelona.github.io/ipython_notebook_goodies/ipython_notebook_toc.js')\n"
      ],
      "text/plain": [
       "<IPython.core.display.Javascript object>"
      ]
     },
     "metadata": {},
     "output_type": "display_data"
    }
   ],
   "source": [
    "%%javascript\n",
    "$.getScript('https://kmahelona.github.io/ipython_notebook_goodies/ipython_notebook_toc.js')"
   ]
  },
  {
   "cell_type": "code",
   "execution_count": null,
   "metadata": {},
   "outputs": [],
   "source": []
  }
 ],
 "metadata": {
  "kernelspec": {
   "display_name": "Python 3",
   "language": "python",
   "name": "python3"
  },
  "language_info": {
   "codemirror_mode": {
    "name": "ipython",
    "version": 3
   },
   "file_extension": ".py",
   "mimetype": "text/x-python",
   "name": "python",
   "nbconvert_exporter": "python",
   "pygments_lexer": "ipython3",
   "version": "3.7.3"
  }
 },
 "nbformat": 4,
 "nbformat_minor": 2
}
