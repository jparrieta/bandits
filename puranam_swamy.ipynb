{
 "cells": [
  {
   "cell_type": "markdown",
   "metadata": {},
   "source": [
    "# Tutorial on Puranam and Swamy (2016)  \n",
    "\n",
    "In this tutorial, you will be introduced to a simple model that replicates the main finding from the paper by  \n",
    "Phanish Puranam and Murati Swamy, published in 2012 in Organization Science.  \n",
    "\n",
    "This tutorial provides a barebones description of the model. If you want to explore a more flexible version or explore how different agents or bandit distributions would affect Phanish and Murati's paper please have a loot to the full_tutorial\n",
    "\n",
    "**Reference:** Puranam, P., & Swamy, M. (2016). How initial representations shape coupled learning processes. Organization Science, 27(2), 323-335.  \n"
   ]
  },
  {
   "cell_type": "markdown",
   "metadata": {},
   "source": [
    "# Basic Building Blocks\n",
    "\n",
    "In this first sections, I will present the basic building blocks. Namely, the àgent's learning and decision processes and how we generate options in the environment. The agents in This paper are quite simple. In contrast to Denrell and March (2001) or Posen and Levinthal (2012) the agents do not learn by themselves. Therefore the actions they can actually do is just choose, update or reset their beliefs. \n",
    "\n",
    "## Agents\n",
    "The agents follow a few simple actions. \n",
    "\n",
    "### 1. Choose\n",
    "The agents choose one option based upon their attraction to this option. In this model, we use softmax as the rule for transforming the different attractions for each option into probabilities of choosing one option.   \n",
    "\n",
    "### 2. Update\n",
    "Updating is done via the Bush-Mossteller equation. The parameter phi determins how much the agent updates its beliefs based upon new information. A value of zero leads to agents to not update their beliefs. A value of one to full update of beliefs. A mixture leads to what is known as an Exponentially Recency Weighted Average (Sutton and Barto, 1998). The phi varies according a constant phi value.\n",
    "\n",
    "### 4. Reset\n",
    "This function resets the attractions of the agent. It takes only one set of values, the initial attractions/beliefs of the agent for before the simulation start. In this paper the disagreement of beliefs of two agents is the main aspect, so having precise initializations is important. "
   ]
  },
  {
   "cell_type": "code",
   "execution_count": 1,
   "metadata": {},
   "outputs": [],
   "source": [
    "import numpy as np\n",
    "import matplotlib.pyplot as plt\n",
    "\n",
    "def softmax(tau, attraction): #softmax action selection with attraction vector as parameters\n",
    "    denom = np.sum(np.exp((attraction[:])/tau))\n",
    "    probabilities = np.exp(attraction/tau)/denom\n",
    "    choice = np.random.choice(range(len(probabilities)), p = probabilities)\n",
    "    return(choice)\n",
    "\n",
    "class agent:\n",
    "    def __init__(self, tau, phi):\n",
    "        self.tau = tau\n",
    "        self.phi = phi\n",
    "    def choose(self): return(softmax(self.tau, self.attraction))\n",
    "    def reset(self, attraction): self.attraction = np.array(attraction)\n",
    "    def update(self, choice, payoff): self.attraction[choice] += self.phi*(payoff-self.attraction[choice])"
   ]
  },
  {
   "cell_type": "markdown",
   "metadata": {},
   "source": [
    "## Environment\n",
    "In this paper, the bandits are specially simplre. There is no noise due to the bandit. Thus the bandits just output the mean value for which they are initialized.\n",
    "\n",
    "### 1. Bandit\n",
    "The bandit is a simple structure. It has a mean and outputs it when it is asked for a measure.\n",
    "\n",
    "#### Measure\n",
    "The bandits perform one function, when called upon, they give the mean of the bandit. "
   ]
  },
  {
   "cell_type": "code",
   "execution_count": 2,
   "metadata": {},
   "outputs": [],
   "source": [
    "class bandit:\n",
    "    def __init__(self, mean): self.mean = mean\n",
    "    def measure(self): return(self.mean)"
   ]
  },
  {
   "cell_type": "markdown",
   "metadata": {},
   "source": [
    "###  2. Bandits_P_S\n",
    "This class creates the environment for the Puranam and Swamy (2012) paper. In specific, 4 bandits with two entries each and with means specified from game thoerretic values.\n",
    "\n",
    "#### Measure\n",
    "The bandits in Puranam and Swamy are much simpler than our prior examples. The model does have a complication due to the coupled learning but we will present this later on. \n",
    "  \n",
    "#### Make Bandit\n",
    "There are technically just two bandits, even though Puranam and Swamy model m=10. One bandit gives a high output when both choices are the same and accurate, and if not it gives a low value.  "
   ]
  },
  {
   "cell_type": "code",
   "execution_count": 3,
   "metadata": {},
   "outputs": [],
   "source": [
    "class bandits_P_S:\n",
    "    def __init__(self, num_bandits, bingo, val_max, val_min): \n",
    "        self.means = val_min*np.ones(num_bandits)\n",
    "        self.means[bingo] = val_max\n",
    "        self.arms = [bandit(mean = val_max), bandit(mean = val_min)]\n",
    "        self.bingo = bingo\n",
    "    def measure(self, choice1, choice2): \n",
    "        if choice1 == choice2 and choice1 == self.bingo: return(self.arms[0].measure())\n",
    "        else: return(self.arms[1].measure())"
   ]
  },
  {
   "cell_type": "markdown",
   "metadata": {},
   "source": [
    "## Organization class\n",
    "Phanish and Maurati study a coupled learning process where the decisions of one agent interact with the decisions of another to achieve high performance.  \n",
    "The fact that we now have two agents instead of one leads to create a new class. THis class is represents the organization and it is a wrapper structure so that when we run the simulation, the simulation function believes as if it is interacting with one agent, even though there are two.  \n",
    "### 1 Initialization\n",
    "The organization class is initialized with two agents, Alice and Bob. \n",
    "  \n",
    "### 2. Learn function\n",
    "The learn function is functionally equivalent to the learning function of the individual agents. However, there are replicated values stored. This is due to the fact that we need each agent to make a choice. The two choices are then sent to the bandit to get one payoff. The oayoff then is used to update the agent's attractions. Finally, we store instead of the choices, only whether the agents had the same choice in the specific period. We also store duplicates of the knowledge SSE per period and the exploration in the period. \n",
    "  \n",
    "### 3. Reset\n",
    "The reset function is different from the prior cases. Here the values used to initialize the attractions at the start of every simulation are different for each agent. The agents in Puranam and Swamy (2016) have their attractions directly initialized every time the simulation starts. Each bandit gets a different and specific attraction. In contrast to the prior papers where beliefs at the start of the simulation for every bandit were homogenous, here the key aspect Phanish and Murati study is how differences in the initial representation affect coordination and thus require that the agents have very specific starting beliefs. "
   ]
  },
  {
   "cell_type": "code",
   "execution_count": 4,
   "metadata": {},
   "outputs": [],
   "source": [
    "class organization():\n",
    "    def __init__(self, Alice, Bob):\n",
    "        self.Alice = Alice\n",
    "        self.Bob = Bob\n",
    "    def learn(self, num_periods, bandits):\n",
    "        choices = []\n",
    "        coordination = []\n",
    "        payoffs = []\n",
    "        knowledge = []\n",
    "        RE = [[1,1]]\n",
    "        for i in range(num_periods):\n",
    "            choice1 = self.Alice.choose()\n",
    "            choice2 = self.Bob.choose()\n",
    "            payoff = bandits.measure(choice1, choice2)\n",
    "            coordinate = 1*(choice1==choice2 and choice1 == np.argmax(bandits.means))\n",
    "            self.Alice.update(choice1, payoff)\n",
    "            self.Bob.update(choice2, payoff)\n",
    "            nugget1 = 1-sum((self.Alice.attraction-bandits.means)**2)\n",
    "            nugget2 = 1-sum((self.Bob.attraction-bandits.means)**2)\n",
    "            choices.append([choice1, choice2])\n",
    "            payoffs.append(payoff)\n",
    "            knowledge.append([nugget1, nugget2])\n",
    "            coordination.append(coordinate)\n",
    "            if len(choices) > 1:\n",
    "                re1 = 1*(choices[-1][0] != choices[-2][0])\n",
    "                re2 = 1*(choices[-1][1] != choices[-2][1])\n",
    "                RE.append([re1, re2])\n",
    "        return([coordination, payoffs, knowledge, RE])\n",
    "    def reset(self, attractions):\n",
    "        self.Alice.reset(attractions[0])\n",
    "        self.Bob.reset(attractions[1])"
   ]
  },
  {
   "cell_type": "markdown",
   "metadata": {},
   "source": [
    "# Simulation\n",
    "\n",
    "With these two building blocks, we can run a simulation to replicate the main findings of Posen and Levinthal (2021).\n",
    "\n",
    "## 1. Initialize values\n",
    "In this simulation we need more parameters. We start with the bandit.\n",
    "\n",
    "### 1.1 Bandit\n",
    "Tehr are ten bandits. The bandits have a maximum value that appears when both agents choose option 2 (bingo!). IF not then a minimum value is given. Here, in contrast to Posen and Levinthal, I input the maximum and minimum values used by Phanish and Murati."
   ]
  },
  {
   "cell_type": "code",
   "execution_count": 5,
   "metadata": {},
   "outputs": [],
   "source": [
    "num_bandits = 10\n",
    "val_max = 1.0\n",
    "val_min = -1.0\n",
    "bingo = 2\n",
    "flop = 9"
   ]
  },
  {
   "cell_type": "markdown",
   "metadata": {},
   "source": [
    "### 1.2 Agents\n",
    "the agents have constant phi values, and use softmax. This paper has the peculiarity that the agent's attractions are initialized at the start of the simulation to precise values. For this reason it uses the style_start = \"fixed\". That allows the organization to set the beliefs every time the simulation starts again.  \n",
    "In addition to tau and phi, in this paper there is a p value that represent how certain the agents are of their initial believes (1 for full certainty, 0 for no certainty)."
   ]
  },
  {
   "cell_type": "code",
   "execution_count": 6,
   "metadata": {},
   "outputs": [],
   "source": [
    "phi = 0.25 # not needed in \"over k\" updating mode\n",
    "tau = 0.1\n",
    "p = 0.8"
   ]
  },
  {
   "cell_type": "markdown",
   "metadata": {},
   "source": [
    "### 1.3 Simulation\n",
    "In the paper, the simulation is run for 100 periods and 5k replications. Here, I do the same but if you run it online, it might be better to run less. The simulation is quite noisy as it has Bernoulli bandits but given that there are two agents, it takes much longer to run."
   ]
  },
  {
   "cell_type": "code",
   "execution_count": 7,
   "metadata": {},
   "outputs": [],
   "source": [
    "num_periods = 100\n",
    "num_reps = 5000 # 5000 typical"
   ]
  },
  {
   "cell_type": "markdown",
   "metadata": {},
   "source": [
    "### 1.4 Coupled learning\n",
    "The agents have opinions about the bandits'payoffs before every simulation. How strong or weak the opinion is depends on the parameter p.     \n",
    "\n",
    "The belief are negative for every but one arm of the N-arm bandit. The chosen arm has a high belief. There are three different ways to initialize an agent, with good beliefs, bad beliefs or uniform beliefs. The combinations of these three are used to understand the performance implications of the initial beliefs in an organization. \n",
    "\n",
    "#### 1.4.1 Strength of initial beliefs\n",
    "The agents have beliefs of different strength (p), The agents initialize every bandit as a low value except the one one they believe has the highest value. Some agents have good beliefs, some bad, and some have no beliefs (). "
   ]
  },
  {
   "cell_type": "code",
   "execution_count": 8,
   "metadata": {},
   "outputs": [],
   "source": [
    "max_setting = (p*val_max + (1-p)*val_min)\n",
    "min_setting = (p*val_min+(1-p)*val_max)"
   ]
  },
  {
   "cell_type": "markdown",
   "metadata": {},
   "source": [
    "#### 1.4.2 Good, bad, and uniform beliefs\n",
    "The agents with good beliefs have an accurate understanding of the payoff distribution. The agents with bad beliefs start thinking that a bandit has a high payoff but it does not. The agents with uniform beliefs have uniformly high beliefs for all bandits. "
   ]
  },
  {
   "cell_type": "code",
   "execution_count": 9,
   "metadata": {},
   "outputs": [],
   "source": [
    "# Good beliefs\n",
    "good = min_setting*np.ones(num_bandits)\n",
    "good[bingo] = max_setting\n",
    "# Bad beliefs\n",
    "bad = min_setting*np.ones(num_bandits)\n",
    "bad[flop] = max_setting\n",
    "# Uniform beliefs\n",
    "uniform = max_setting*np.ones(num_bandits)/num_bandits"
   ]
  },
  {
   "cell_type": "markdown",
   "metadata": {},
   "source": [
    "#### 1.4.3 Organizational setting\n",
    "Finally, we create types of organizational beliefs. There are three types, homogenously bad beleifs, uniform beliefs, and heterogenous beliefs with one agent having good beliefs and bad beliefs. "
   ]
  },
  {
   "cell_type": "code",
   "execution_count": 10,
   "metadata": {},
   "outputs": [],
   "source": [
    "org_setting1 = [bad, bad]\n",
    "org_setting2 = [uniform, uniform]\n",
    "org_setting3 = [good, bad]"
   ]
  },
  {
   "cell_type": "markdown",
   "metadata": {},
   "source": [
    "## 2. Initialize agent, organization, and Bandits\n",
    "We create one agent, Alice and initialize the environment for the paper. We create an environment with 10 bnadits. These bandits are different from the ones in the other papers as they are created from a Beta distribution of payoff probabilties. "
   ]
  },
  {
   "cell_type": "code",
   "execution_count": 11,
   "metadata": {},
   "outputs": [],
   "source": [
    "Alice = agent(tau = tau, phi = phi)\n",
    "Bob = agent(tau = tau, phi = phi)\n",
    "Inc = organization(Alice = Alice, Bob = Bob)\n",
    "options = bandits_P_S(num_bandits = num_bandits, bingo = bingo, val_max = val_max, val_min = val_min)"
   ]
  },
  {
   "cell_type": "markdown",
   "metadata": {},
   "source": [
    "## 3. Run simulation\n",
    "The simulation is stored as a function as we will run it once for every condition of initial beliefs. The simulation asks the organization to learn for a number of periods. Additionally it runs a number of repetitions over multiple organizations"
   ]
  },
  {
   "cell_type": "code",
   "execution_count": 12,
   "metadata": {},
   "outputs": [],
   "source": [
    "def run_simulation(num_reps, num_periods,Inc, options, start_attraction):\n",
    "    all_payoffs = np.zeros((num_periods))\n",
    "    all_knowledge = np.zeros((num_periods, 2))\n",
    "    all_RE = np.zeros((num_periods, 2))\n",
    "    all_choices = np.zeros(num_periods)\n",
    "    last_choices = []\n",
    "    for j in range(num_reps):\n",
    "        Inc.reset(attractions = start_attraction)     \n",
    "        choice, payoff, knowledge, re = Inc.learn(num_periods, options)\n",
    "        all_payoffs = np.add(all_payoffs, payoff)\n",
    "        all_knowledge = np.add(all_knowledge, knowledge)\n",
    "        all_RE = np.add(all_RE, re)\n",
    "        # Specific for this paper\n",
    "        all_choices = np.add(all_choices, choice)\n",
    "        last_choices.append(choice[-1])\n",
    "    return([all_payoffs, all_knowledge, all_RE, all_choices, last_choices])"
   ]
  },
  {
   "cell_type": "markdown",
   "metadata": {},
   "source": [
    "Having the agent and environment we can run a simulation. We initialize two arrays, one for payoff and one for choices. Additionally, we create an empty list to store the last choices of the agents and one value to save the attraction to the option with variable output after every replication of the simulation is finished.\n",
    "\n",
    "This takes some time."
   ]
  },
  {
   "cell_type": "code",
   "execution_count": 13,
   "metadata": {},
   "outputs": [],
   "source": [
    "payoffs, kn, RE, coordination, last = run_simulation(num_reps, num_periods, Inc, options, org_setting1)\n",
    "payoffs2, kn2, RE2, coordination2, last2 = run_simulation(num_reps, num_periods, Inc, options, org_setting2)\n",
    "payoffs3, kn3, RE3, coordination3, last3 = run_simulation(num_reps, num_periods, Inc, options, org_setting3)"
   ]
  },
  {
   "cell_type": "markdown",
   "metadata": {},
   "source": [
    "## 4.  Display results: Relative coordination  \n",
    "We present just the results shown on Figures 2a and 2b. These results relate to the percentage of times the agents chose the correct answer. However, there is more data available in case you interested. We log the amount of exploration each agent does, the accuracy of their knowledge, the amount of coordinatation (i.e. times the chose the correct bandit), the aspiration levels, and last choices. "
   ]
  },
  {
   "cell_type": "code",
   "execution_count": 14,
   "metadata": {
    "scrolled": true
   },
   "outputs": [
    {
     "data": {
      "text/plain": [
       "<matplotlib.collections.PathCollection at 0xdd3fe0a2b0>"
      ]
     },
     "execution_count": 14,
     "metadata": {},
     "output_type": "execute_result"
    },
    {
     "data": {
      "image/png": "[encoded data removed]",
      "text/plain": [
       "<Figure size 432x288 with 1 Axes>"
      ]
     },
     "metadata": {
      "needs_background": "light"
     },
     "output_type": "display_data"
    }
   ],
   "source": [
    "plt.scatter(range(num_periods), (coordination-coordination2)/num_reps, c = \"blue\")"
   ]
  },
  {
   "cell_type": "code",
   "execution_count": 15,
   "metadata": {},
   "outputs": [
    {
     "data": {
      "text/plain": [
       "<matplotlib.collections.PathCollection at 0xdd3fe9dcc0>"
      ]
     },
     "execution_count": 15,
     "metadata": {},
     "output_type": "execute_result"
    },
    {
     "data": {
      "image/png": "[encoded data removed]",
      "text/plain": [
       "<Figure size 432x288 with 1 Axes>"
      ]
     },
     "metadata": {
      "needs_background": "light"
     },
     "output_type": "display_data"
    }
   ],
   "source": [
    "plt.scatter(range(num_periods), (coordination-coordination3)/num_reps, c = \"red\")"
   ]
  },
  {
   "cell_type": "markdown",
   "metadata": {},
   "source": [
    "## 5. Exercise\n",
    "What would happen if you change the minimum and maximum value of the Bernoulli bandits? Should the percentage of agreement change? "
   ]
  }
 ],
 "metadata": {
  "kernelspec": {
   "display_name": "Python 3",
   "language": "python",
   "name": "python3"
  },
  "language_info": {
   "codemirror_mode": {
    "name": "ipython",
    "version": 3
   },
   "file_extension": ".py",
   "mimetype": "text/x-python",
   "name": "python",
   "nbconvert_exporter": "python",
   "pygments_lexer": "ipython3",
   "version": "3.7.3"
  }
 },
 "nbformat": 4,
 "nbformat_minor": 2
}
