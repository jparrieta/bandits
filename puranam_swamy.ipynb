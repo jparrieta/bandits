{
 "cells": [
  {
   "cell_type": "markdown",
   "metadata": {},
   "source": [
    "# Tutorial on Puranam and Swamy (2016)  \n",
    "\n",
    "In this tutorial, you will be introduced to a simple model that replicates the main finding from the paper by  \n",
    "Phanish Puranam and Murali Swamy, published in 2016 in Organization Science.  \n",
    "\n",
    "This tutorial provides a barebones description of the model. If you want to explore a more flexible version or explore how different agents or bandit distributions would affect Phanish and Murali's paper please have a look to the full_tutorial.  \n",
    "\n",
    "**Reference:** Puranam, P., & Swamy, M. (2016). How initial representations shape coupled learning processes. Organization Science, 27(2), 323-335.  "
   ]
  },
  {
   "cell_type": "markdown",
   "metadata": {},
   "source": [
    "# Basic Building Blocks\n",
    "\n",
    "In this first sections, I will present the basic building blocks. Namely, the àgents, the organization, and the environment. The agents in this paper are simpler than the ones of Denrell and March (2001) or Posen and Levinthal (2012). The reason for this is that the agents' decisions are made in an organization. The learning process where decisions are made happen at the organizational level. In a similar line, the source of uncertainty in this paper is based on the miscoordination of the agents, therefore the bandits are simple stable values. \n",
    "\n",
    "## Agents\n",
    "The agents follow perform few simple actions. \n",
    "\n",
    "### 1. Choose\n",
    "The agents chooses based upon their attraction to the available options. In this model, we use softmax as the rule for transforming the different attractions for each option into choosing probabilities. Note that the softmax function uses a tau value. A tau close to zero leads to almost no exploration, and mostly greedy behavior. The larger the tau the larger the proportion of exploration. \n",
    "\n",
    "### 2. Update\n",
    "Updating is done via the Bush-Mossteller equation. The parameter phi determines how much the agent updates its beliefs when faced with new information. A value of zero leads to agents to not update their beliefs. A value of one to full change of  their beliefs. A mixture leads to what is known as an Exponentially Recency Weighted Average (Sutton and Barto, 1998). The agents have a constant phi value, which allow them to be responsive to changes in the environment even in late stages.\n",
    "\n",
    "### 4. Reset\n",
    "This function resets the attractions of the agent. It takes two sets of values. First of all a vector of positions with a one where the agent beliefs the highest payoff is located. Second, a vector with the maximum and minimum payoffs in the environment. The agent uses these to values to create a set of initial beliefs. For this it uses its p parameter. The stronger the p parameter the stronger the agent's beliefs. "
   ]
  },
  {
   "cell_type": "code",
   "execution_count": 1,
   "metadata": {},
   "outputs": [],
   "source": [
    "import numpy as np\n",
    "import matplotlib.pyplot as plt\n",
    "from time import time\n",
    "\n",
    "def softmax(tau, attraction): #softmax action selection with attraction vector as parameters\n",
    "    denom = np.sum(np.exp((attraction[:])/tau))\n",
    "    probabilities = np.exp(attraction/tau)/denom\n",
    "    choice = np.random.choice(range(len(probabilities)), p = probabilities)\n",
    "    return(choice)\n",
    "\n",
    "class agent:\n",
    "    def __init__(self, tau, phi, p):\n",
    "        self.tau = tau\n",
    "        self.phi = phi\n",
    "        self.p = p\n",
    "    def choose(self): return(softmax(self.tau, self.attraction))\n",
    "    def reset(self, attraction, vals):\n",
    "        if min(attraction) == max(attraction): self.attraction = np.array(attraction)\n",
    "        else: \n",
    "            val_max = (p*vals[1] + (1-p)*vals[0])\n",
    "            val_min = (p*vals[0]+(1-p)*vals[1])\n",
    "            self.attraction = np.array([val_max if a == 1 else val_min for a in attraction])\n",
    "    def update(self, choice, payoff): self.attraction[choice] += self.phi*(payoff-self.attraction[choice])"
   ]
  },
  {
   "cell_type": "markdown",
   "metadata": {},
   "source": [
    "## Organization class\n",
    "Phanish and Maurali study a coupled learning process where the decisions of one agent interact with the decisions of another to achieve high performance.  \n",
    "The fact that we now have two agents instead of one requires us to create a new class. This class is represents the organization and it is a wrapper structure so that when we run the simulation, the simulation function believes it is interacting with one agent, even though there are two. In a way, it is built in a way to preserve anthropomorphism. \n",
    "\n",
    "### 1 Initialization\n",
    "The organization class is initialized with two agents, Alice and Bob. \n",
    "  \n",
    "### 2. Learn function\n",
    "The learn function first asks the two agents for choices, it then checks the payoff of the choices and proceeds to update the agents. This is done for a number of periods. After the periods are done, we proceed return the number of times the agents were coordinated and chose the correct option.  \n",
    "\n",
    "### 3. Reset\n",
    "The reset function initializes the beliefs of each agent. The simulation sends the attractions of each agent and we give each agent the attractions they have to store before starting the simulation. Additionally, if the agent has homogenous beliefs, then we initialize them as the simulation ask us to. In this way we can have uniform optimistic, or uniform pesimistic agents when needed. "
   ]
  },
  {
   "cell_type": "code",
   "execution_count": 2,
   "metadata": {},
   "outputs": [],
   "source": [
    "class organization():\n",
    "    def __init__(self, Alice, Bob):\n",
    "        self.Alice = Alice\n",
    "        self.Bob = Bob\n",
    "    def learn(self, num_periods, bandits):\n",
    "        coordination = []\n",
    "        payoffs = []\n",
    "        for i in range(num_periods):\n",
    "            choice1 = self.Alice.choose()\n",
    "            choice2 = self.Bob.choose()\n",
    "            payoff = bandits.measure(choice1, choice2)\n",
    "            coordinate = 1*(choice1==choice2 and choice1 == np.argmax(bandits.means))\n",
    "            self.Alice.update(choice1, payoff)\n",
    "            self.Bob.update(choice2, payoff)\n",
    "            payoffs.append(payoff)\n",
    "            coordination.append(coordinate)\n",
    "        return([coordination, payoffs])\n",
    "    def reset(self, attractions, vals):\n",
    "        self.Alice.reset(attractions[0], vals)\n",
    "        self.Bob.reset(attractions[1], vals)"
   ]
  },
  {
   "cell_type": "markdown",
   "metadata": {},
   "source": [
    "## Environment\n",
    "In this paper, the bandits are specially simple. There is no noise due to the bandit. Thus the bandits just output the mean value for which they are initialized. For more complex bandits, please have a look at the full tutorial. Murali and Phanish's results are expandable to any set of bandits, they chose these because they lead to the simplest generalizable intuitions. \n",
    "\n",
    "### 1. Bandit\n",
    "The bandit is a simple structure. It has a mean and it outputs it when measured.\n",
    "\n",
    "#### Measure\n",
    "The bandits perform one function, when called upon, they give the mean of the bandit. "
   ]
  },
  {
   "cell_type": "code",
   "execution_count": 3,
   "metadata": {},
   "outputs": [],
   "source": [
    "class bandit:\n",
    "    def __init__(self, mean): self.mean = mean\n",
    "    def measure(self): return(self.mean)"
   ]
  },
  {
   "cell_type": "markdown",
   "metadata": {},
   "source": [
    "###  2. Bandits_P_S\n",
    "This class creates the environment for the Puranam and Swamy (2016) paper. In specific, N bandits with two entries each and with means specified from game thoerretic values.  \n",
    "\n",
    "#### Make Bandit\n",
    "Although Phanish and Murali study M bandits, these bandits just output two values, a minimum and a maximum. The maximum is given when both agents choose the correct option (bingo). The minimum is given in every other choice pair. Because of this, we can simplify the environment and create just two bandits. One for when the high value is chosen, another one for every other combination.  \n",
    "\n",
    "#### Measure\n",
    "This function routes which bandit will give the output. If both choices are correct, then we measure the high-valued bandit. In every other case, we choose the other bandit. "
   ]
  },
  {
   "cell_type": "code",
   "execution_count": 4,
   "metadata": {},
   "outputs": [],
   "source": [
    "class bandits_P_S:\n",
    "    def __init__(self, num_bandits, bingo, val_max, val_min): \n",
    "        self.means = val_min*np.ones(num_bandits)\n",
    "        self.means[bingo] = val_max\n",
    "        self.arms = [bandit(mean = val_max), bandit(mean = val_min)]\n",
    "        self.bingo = bingo\n",
    "    def measure(self, choice1, choice2): \n",
    "        if choice1 == choice2 and choice1 == self.bingo: return(self.arms[0].measure())\n",
    "        else: return(self.arms[1].measure())"
   ]
  },
  {
   "cell_type": "markdown",
   "metadata": {},
   "source": [
    "# Simulation\n",
    "\n",
    "With the previous three building blocks, we can run a simulation to replicate the main findings of Puranam and Swamy (2016).\n",
    "\n",
    "## 1. Initialize values\n",
    "The first thin we need to do is initialize each module. That is, set how the agents learn, and how the environment is built.  \n",
    "\n",
    "### 1.1 Bandit\n",
    "We start by specifying the bandits. There are ten bandits. The bandits have a maximum value that appears when both agents choose option 2 (bingo!). If not then a minimum value is given. The maximum value 1 and the minimum value is -1."
   ]
  },
  {
   "cell_type": "code",
   "execution_count": 5,
   "metadata": {},
   "outputs": [],
   "source": [
    "num_bandits = 10\n",
    "val_max = 1.0\n",
    "val_min = -1.0\n",
    "bingo = 2"
   ]
  },
  {
   "cell_type": "markdown",
   "metadata": {},
   "source": [
    "### 1.2 Agents  \n",
    "The agents are fully specified by three parameters. phi, tau, and p.  \n",
    "Phi specifies how much they update their beliefs and tau, how explorative the agent is.\n",
    "p is the new parameter in this paper. It specifies how strong the beliefs of the agent are. "
   ]
  },
  {
   "cell_type": "code",
   "execution_count": 6,
   "metadata": {},
   "outputs": [],
   "source": [
    "phi = 0.25 # not needed in \"over k\" updating mode\n",
    "tau = 0.1\n",
    "p = 0.8"
   ]
  },
  {
   "cell_type": "markdown",
   "metadata": {},
   "source": [
    "### 1.3 Simulation\n",
    "In the paper, the simulation is run for 100 periods and 5k replications. Here, I do the same but if you run it online, it might be better to run less. The simulation is quite noisy as it has Bernoulli bandits but given that there are two agents, it takes much longer to run."
   ]
  },
  {
   "cell_type": "code",
   "execution_count": 7,
   "metadata": {},
   "outputs": [],
   "source": [
    "num_periods = 100\n",
    "num_reps = 5000 # 5000 typical"
   ]
  },
  {
   "cell_type": "markdown",
   "metadata": {},
   "source": [
    "### 1.4 Coupled learning\n",
    "The agents have opinions about the bandits'payoffs before every simulation. How strong or weak the opinion is depends on the parameter p. However, we can control what the agent beliefs to be a good or bad option at the start of the simulation. \n",
    "\n",
    "#### 1.4.1 Good, bad, and uniform beliefs\n",
    "In this paper, there are three beliefs configurations. Good beliefs are the ones where the highest options in the environment matches the highest belief of the agent. Bad beliefs are when there is a mismatch between the agent's beliefs and the environment highest output. Finally, homogenous beliefs also refered as uniform beliefs in the paper, are flat beliefs. The homogenous beliefs can be optimitic or pesimistic. Optimistic beliefs lead to more exploration of ideas. Murali and Phanish, chose optimistic uniform beliefs in this study.  \n",
    "In the paper, the bad beliefs are always initialized as believing that option 9 has the highest payoff. This can be changed, so we add a flop variable. Bingo, the correct belief was initialized before, when setting up the environment. "
   ]
  },
  {
   "cell_type": "code",
   "execution_count": 8,
   "metadata": {},
   "outputs": [],
   "source": [
    "flop = 9\n",
    "\n",
    "# Good beliefs\n",
    "good = np.zeros(num_bandits)\n",
    "good[bingo] = 1.0\n",
    "# Bad beliefs\n",
    "bad = np.zeros(num_bandits)\n",
    "bad[flop] = 1.0\n",
    "# Uniform beliefs\n",
    "uniform = np.ones(num_bandits)/num_bandits"
   ]
  },
  {
   "cell_type": "markdown",
   "metadata": {},
   "source": [
    "#### 1.4.2 Organizational settings\n",
    "After specifying the types of beliefs that the agents can have, we can specify the types of organizations we will build. The paper uses three types of organizations."
   ]
  },
  {
   "cell_type": "code",
   "execution_count": 9,
   "metadata": {},
   "outputs": [],
   "source": [
    "org_setting1 = [bad]*2\n",
    "org_setting2 = [uniform]*2\n",
    "org_setting3 = [good, bad]"
   ]
  },
  {
   "cell_type": "markdown",
   "metadata": {},
   "source": [
    "## 2. Initialize agent, organization, and bandits\n",
    "We can now initialize the agents, organization, and bandtis based upon the prior values. "
   ]
  },
  {
   "cell_type": "code",
   "execution_count": 10,
   "metadata": {},
   "outputs": [],
   "source": [
    "Alice = agent(tau = tau, phi = phi, p = p)\n",
    "Bob = agent(tau = tau, phi = phi, p = p)\n",
    "Firm = organization(Alice = Alice, Bob = Bob)\n",
    "options = bandits_P_S(num_bandits = num_bandits, bingo = bingo, val_max = val_max, val_min = val_min)"
   ]
  },
  {
   "cell_type": "markdown",
   "metadata": {},
   "source": [
    "## 3. Run simulation\n",
    "The simulation is stored as a function as we will run it once for every condition of initial beliefs. The simulation asks the organization to learn for a number of periods. Additionally it runs a number of repetitions over multiple organizations.  "
   ]
  },
  {
   "cell_type": "code",
   "execution_count": 11,
   "metadata": {},
   "outputs": [],
   "source": [
    "def run_simulation(num_reps, num_periods, Firm, options, start_attraction):\n",
    "    all_payoffs = np.zeros((num_periods))\n",
    "    all_coordination = np.zeros(num_periods)\n",
    "    for j in range(num_reps):\n",
    "        Firm.reset(attractions = start_attraction, vals = [val_min, val_max])     \n",
    "        coordination, payoff = Firm.learn(num_periods, options)\n",
    "        all_payoffs = np.add(all_payoffs, payoff)\n",
    "        all_coordination = np.add(all_coordination, coordination)\n",
    "    return([all_coordination, all_payoffs])"
   ]
  },
  {
   "cell_type": "markdown",
   "metadata": {},
   "source": [
    "## 4. Run\n",
    "Now we can run the simulation for the three different types of organizations we built before. \n",
    "\n",
    "This takes some time. Three minutes in my old computer. "
   ]
  },
  {
   "cell_type": "code",
   "execution_count": 12,
   "metadata": {},
   "outputs": [
    {
     "name": "stdout",
     "output_type": "stream",
     "text": [
      "First simulation done. It took: 71 seconds.\n",
      "Second simulation done. Total time so far: 130 seconds.\n",
      "Final simulation done. Total time: 189 seconds.\n"
     ]
    }
   ],
   "source": [
    "t = time()\n",
    "coordination, payoffs, = run_simulation(num_reps, num_periods, Firm, options, org_setting1)\n",
    "print(\"First simulation done. It took: \" + str(round(time()-t)) + \" seconds.\")\n",
    "coordination2, payoffs2 = run_simulation(num_reps, num_periods, Firm, options, org_setting2)\n",
    "print(\"Second simulation done. Total time so far: \" + str(round(time()-t)) + \" seconds.\")\n",
    "coordination3, payoffs3 = run_simulation(num_reps, num_periods, Firm, options, org_setting3)\n",
    "print(\"Final simulation done. Total time: \" + str(round(time()-t)) + \" seconds.\")"
   ]
  },
  {
   "cell_type": "markdown",
   "metadata": {},
   "source": [
    "## 4.  Display results: Relative coordination  \n",
    "We present just the results shown on Figures 2a and 2b. These results relate to the percentage of times the agents chose the correct answer. However, there is more data available in case you interested. We log the amount of exploration each agent does, the accuracy of their knowledge, the amount of coordinatation (i.e. times the chose the correct bandit), the aspiration levels, and last choices. "
   ]
  },
  {
   "cell_type": "code",
   "execution_count": 13,
   "metadata": {
    "scrolled": true
   },
   "outputs": [
    {
     "data": {
      "text/plain": [
       "<matplotlib.collections.PathCollection at 0xf41e895e80>"
      ]
     },
     "execution_count": 13,
     "metadata": {},
     "output_type": "execute_result"
    },
    {
     "data": {
      "image/png": "[encoded data removed]",
      "text/plain": [
       "<Figure size 432x288 with 1 Axes>"
      ]
     },
     "metadata": {
      "needs_background": "light"
     },
     "output_type": "display_data"
    }
   ],
   "source": [
    "plt.scatter(range(num_periods), (coordination-coordination2)/num_reps, c = \"blue\")"
   ]
  },
  {
   "cell_type": "code",
   "execution_count": 14,
   "metadata": {},
   "outputs": [
    {
     "data": {
      "text/plain": [
       "<matplotlib.collections.PathCollection at 0xf41e93cf98>"
      ]
     },
     "execution_count": 14,
     "metadata": {},
     "output_type": "execute_result"
    },
    {
     "data": {
      "image/png": "[encoded data removed]",
      "text/plain": [
       "<Figure size 432x288 with 1 Axes>"
      ]
     },
     "metadata": {
      "needs_background": "light"
     },
     "output_type": "display_data"
    }
   ],
   "source": [
    "plt.scatter(range(num_periods), (coordination-coordination3)/num_reps, c = \"red\")"
   ]
  },
  {
   "cell_type": "markdown",
   "metadata": {},
   "source": [
    "## 5. Exercise\n",
    "What would happen if you change the minimum and maximum value of the Bernoulli bandits? Should the percentage of agreement change? "
   ]
  }
 ],
 "metadata": {
  "kernelspec": {
   "display_name": "Python 3",
   "language": "python",
   "name": "python3"
  },
  "language_info": {
   "codemirror_mode": {
    "name": "ipython",
    "version": 3
   },
   "file_extension": ".py",
   "mimetype": "text/x-python",
   "name": "python",
   "nbconvert_exporter": "python",
   "pygments_lexer": "ipython3",
   "version": "3.7.3"
  }
 },
 "nbformat": 4,
 "nbformat_minor": 2
}
