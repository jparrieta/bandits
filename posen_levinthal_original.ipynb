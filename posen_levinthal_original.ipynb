{
 "cells": [
  {
   "cell_type": "markdown",
   "metadata": {},
   "source": [
    "# Tutorial on Modeling of Learning Under Uncertainty\n",
    "\n",
    "In this tutorial, you will be introduced to three modeling papers on reinforcement learning. These papers study the phenomenon of organizationa learning under uncertainty trough the use of agent based models who learn from n-Arm bandits.\n",
    "\n",
    "The models we will study are:\n",
    "1. March and Denrell (2001)\n",
    "This paper introduced the so called Hotstove effect. The idea being that if agents choose between two options with the same mean, one with variance in its feedback and one without, the agents will learn to choose the variant without variance.\n",
    "\n",
    "2. Posen and Levinthal (2012)\n",
    "This paper expands the model from Denrell and March (2001) and studies how agents learn in an environment with ten options, all of them with variance. It studies the effects of different shocks and environmental changes as agents chase a moving target.\n",
    "\n",
    "3. Puranam and Swamy (2016)\n",
    "This paper expands the model from Denrell and March (2001) through the process of coupled learning. Two agents, not one as before, learn of the perfoemance of two options. The catch is that the performance is based upon their coupled action and the agetns do not know what the other agent is doing. Through time the agents learn to cooperate. Interestingly, if agents start with the same choice, they reach the optimal choice faster than if they started with mixed choices. This holds even if they start choosing the wrong option."
   ]
  },
  {
   "cell_type": "markdown",
   "metadata": {},
   "source": [
    "# Basic Building Blocks\n",
    "\n",
    "In this first sections, I will present the basic building blocks. Namely, the àgent's learning and decision processes and how we generate options in the environment.\n",
    "\n",
    "## Agents\n",
    "The agents follow a few simple actions. \n",
    "\n",
    "### 1. Choose\n",
    "The agents choose one option based upon their attraction to this option. In this model, we use softmax as the rule for transforming the different attractions for each option into probabilities of choosing one option. Other rules as greedy and e-greedy are possible. The agent's level of exploration is determined by the parameter tau. A small tau leads to high exploitation, a high tau to infinite exploration. Due to limitations in the floating point operation we cannot use taus lower that 0.002.\n",
    "\n",
    "### 2. Update\n",
    "Updating is done via the Bush-Mossteller equation. The parameter phi determins how much the agent updates its beliefs based upon new information. A value of zero leads to agents to not update their beliefs. A value of one to full update of beliefs. A mixture leads to what is known as an Exponentially Recency Weighted Average (Sutton and Barto, 1998). In Denrell and March (2001) and Puranam and Swamy (2016), we use a constant phi value. Posen and Levinthal use a varying phi for every trial. The phi varies according to 1/(ki+1) where ki is the number of times an option has been tried. \n",
    "\n",
    "### 3. Learn\n",
    "Learn is a subroutine. It receives two parameters, the number of periods and the bandits to learn from. \n",
    "It initalizes two lists and starts a for loop that run for the specified number of periods.\n",
    "The period starts by asking the agent to choose an option. The payoff of the option is calculated by measuring the option's value. This is explained in the next section. The period ends with the updating of the agent's attractions and the storage of the choice and payoff. After this a new period starts, the choices are stored and returned to the user.\n",
    "\n",
    "### 4. Reset\n",
    "This function resets the attractions of the agent. It takes one value, the number of bandits in the environment."
   ]
  },
  {
   "cell_type": "code",
   "execution_count": 1,
   "metadata": {},
   "outputs": [],
   "source": [
    "import numpy as np\n",
    "import matplotlib.pyplot as plt\n",
    "\n",
    "def softmax(tau, attraction): #softmax action selection with attraction vector as parameters\n",
    "    denom = np.sum(np.exp((attraction[:])/tau))\n",
    "    probabilities = np.exp(attraction/tau)/denom\n",
    "    choice = np.random.choice(range(len(probabilities)), p = probabilities)\n",
    "    return(choice)\n",
    "\n",
    "class agent:\n",
    "    def __init__(self, tau, phi, style_choose):\n",
    "        self.tau = tau\n",
    "        self.phi = phi\n",
    "        self.style_choose = style_choose\n",
    "    def choose(self):\n",
    "        if self.style_choose == \"softmax\": choice = softmax(self.tau, self.attraction)\n",
    "        elif self.style_choose == \"greedy\": choice = np.argmax(self.attraction)\n",
    "        elif type(self.style_choose) == float: # for e-greedy you pass the e parameter only\n",
    "            best_choice = np.argmax(self.attraction)\n",
    "            other_choice = np.random.choice(range(len(self.attraction)))\n",
    "            choice = np.random.choice([best_choice,other_choice], p = [1-self.style_choose,self.style_choose])\n",
    "        return(choice)\n",
    "    def learn(self, num_periods, bandits):\n",
    "        choices = []\n",
    "        payoffs = []\n",
    "        knowledge = []\n",
    "        for i in range(num_periods):\n",
    "            choice = self.choose()\n",
    "            payoff = bandits.measure(choice)\n",
    "            nugget = 1-sum((self.attraction-bandits.means)**2)\n",
    "            self.update(choice, payoff)\n",
    "            choices.append(choice)\n",
    "            payoffs.append(payoff)\n",
    "            knowledge.append(nugget)\n",
    "        return([choices, payoffs, knowledge])\n",
    "    def reset(self, means, att):\n",
    "        self.attraction = np.ones(len(means))/2.0\n",
    "        self.times = np.zeros(len(means))\n",
    "    def update(self, choice, payoff):\n",
    "        self.times[choice] += 1 #starts in 1\n",
    "        self.attraction[choice] += (payoff-self.attraction[choice])/(self.times[choice]+1) # divides by 2"
   ]
  },
  {
   "cell_type": "markdown",
   "metadata": {},
   "source": [
    "## Environment\n",
    "The environment is composed of an n-arm bandit. Each arm of the bandit is definied by an object of class bandit. Put together these objects create one object of class bandits. \n",
    "\n",
    "### Bandit\n",
    "The bandit is a simple structure. It has a mean and a standard deviation. The style determines whether the bandit outputs an uniformly distributed value, a normally distributed value, or one without noise.\n",
    "\n",
    "#### Measure\n",
    "The bandits perform one function, when called upon, they give one output, centered around a mean value and with an added noise. The style of bandit determines where the noise is drawn upon."
   ]
  },
  {
   "cell_type": "code",
   "execution_count": 2,
   "metadata": {},
   "outputs": [],
   "source": [
    "class bandit:\n",
    "    def __init__(self, mean, noise = 0.0):\n",
    "        self.mean = mean\n",
    "        self.noise = noise\n",
    "    def measure(self): return(np.random.binomial(n = 1, p = self.mean))"
   ]
  },
  {
   "cell_type": "markdown",
   "metadata": {},
   "source": [
    "### Bandits_P_L\n",
    "This class creates the environment for the Posen and Levinthal (2012) paper. In specific, 10 bandits drawn from a Beta(2,2) distribution.\n",
    "\n",
    "#### Measure\n",
    "This is a wrapper function. The objective is that the agents ask the bandits class and not the specific bandit for the measurement. Then the bandits class is in charge of asking its bandit for the performance value. "
   ]
  },
  {
   "cell_type": "code",
   "execution_count": 3,
   "metadata": {},
   "outputs": [],
   "source": [
    "class bandits_P_L:\n",
    "    def __init__(self, num_bandits, eta=0.0):\n",
    "        self.eta = eta\n",
    "        self.means = np.zeros(num_bandits)\n",
    "        self.arms = ['']*num_bandits\n",
    "        for i in range(num_bandits): self.make_bandit(i)\n",
    "    def make_bandit(self, position):\n",
    "        self.means[position] = np.random.beta(a=2.0, b=2.0)\n",
    "        self.arms[position] = bandit(mean = self.means[position]) # noise is not needed\n",
    "    def measure(self, choice):\n",
    "        # Change some arms?\n",
    "        if np.random.binomial(n=1, p = self.eta):\n",
    "            for i in range(len(self.arms)):\n",
    "                if np.random.binomial(n=1, p = 0.5): self.make_bandit(i)\n",
    "        return(self.arms[choice].measure())\n",
    "    def reset(self): \n",
    "        for i in range(len(self.arms)): self.make_bandit(i)"
   ]
  },
  {
   "cell_type": "markdown",
   "metadata": {},
   "source": [
    "### Posen and Levinthal (2012)\n",
    "\n",
    "With these two building blocks, we can run a simulation to replicate the main findings of Posen and Levinthal (2021).\n",
    "\n",
    "Reference: Posen, H. E., & Levinthal, D. A. (2012). Chasing a moving target: Exploitation and exploration in dynamic environments. Management Science, 58(3), 587-601.\n",
    "\n",
    "#### 1. Initialize values\n",
    "We start by initailizing the attributes of the simulation. The agents are given a tau but do not require phi because the learning method follows the 1/k+1 weighting. The agents will learn for 500 periods and the results replicated 1000 times. There is no noise value here because in this paper the bandits output either 1 or -1 with probabilities drawn from a beta(2,2) distribution. Changes in the tau, and bandit style should change the learning. Changes in the number of repetitions lead to more noisy results.\n",
    "\n",
    "**Note:** A phi value was added in case you want to explore how agents would differ if the do not update with the 1/k+1 mode"
   ]
  },
  {
   "cell_type": "code",
   "execution_count": 4,
   "metadata": {},
   "outputs": [],
   "source": [
    "## Bandit\n",
    "eta = 0.0\n",
    "num_bandits = 10\n",
    "## Agents\n",
    "style_choose = \"softmax\" # \"softmax\", \"greedy\", or e value as float for e-greedy\n",
    "phi = 0.5 # not needed in \"over k\" updating mode\n",
    "tau = 0.5/num_bandits\n",
    "att_0 = np.ones(num_bandits)/2.0\n",
    "## Simulation\n",
    "num_periods = 500\n",
    "num_reps = 1000"
   ]
  },
  {
   "cell_type": "markdown",
   "metadata": {},
   "source": [
    "#### 2. Initialize agent and Bandits\n",
    "We create one agent, Alice and initialize the environment for the paper. We create an environment with 10 bnadits. These bandits are different from the ones in the other papers as they are created from a Beta distribution of payoff probabilties. "
   ]
  },
  {
   "cell_type": "code",
   "execution_count": 5,
   "metadata": {},
   "outputs": [],
   "source": [
    "Alice = agent(tau = tau, phi = phi, style_choose = style_choose)\n",
    "options = bandits_P_L(num_bandits = num_bandits, eta = eta)"
   ]
  },
  {
   "cell_type": "markdown",
   "metadata": {},
   "source": [
    "#### 3. Run simulation\n",
    "Having the agent and environment we can run a simulation. We initialize two arrays, one for payoff and one for choices. Additionally, we create an empty list to store the last choices of the agents and one value to save the attraction to the option with variable output after every replication of the simulation is finished.\n",
    "\n",
    "This takes some time."
   ]
  },
  {
   "cell_type": "code",
   "execution_count": 6,
   "metadata": {},
   "outputs": [],
   "source": [
    "all_payoffs = np.zeros(num_periods)\n",
    "all_knowledge = np.zeros(num_periods)\n",
    "all_RE = np.zeros(num_periods)\n",
    "for j in range(num_reps):\n",
    "    Alice.reset(means = options.means, att = np.ones(num_bandits)/2.0)\n",
    "    options.reset()\n",
    "    choice, payoff, knowledge = Alice.learn(num_periods, options)\n",
    "    all_payoffs += payoff\n",
    "    all_knowledge += knowledge\n",
    "    # Calculate exploration\n",
    "    all_RE[0] += 1\n",
    "    for i in range(len(choice)-1):\n",
    "        if choice[i+1]!=choice[i]: all_RE[i+1] +=1"
   ]
  },
  {
   "cell_type": "markdown",
   "metadata": {},
   "source": [
    "#### 4. Display results\n",
    "\n",
    "##### Amount of exploration\n",
    "First we present the amount of exploration done by the agents. "
   ]
  },
  {
   "cell_type": "code",
   "execution_count": 7,
   "metadata": {
    "scrolled": false
   },
   "outputs": [
    {
     "data": {
      "text/plain": [
       "<matplotlib.collections.PathCollection at 0x50c8952ef0>"
      ]
     },
     "execution_count": 7,
     "metadata": {},
     "output_type": "execute_result"
    },
    {
     "data": {
      "image/png": "[encoded data removed]",
      "text/plain": [
       "<Figure size 432x288 with 1 Axes>"
      ]
     },
     "metadata": {
      "needs_background": "light"
     },
     "output_type": "display_data"
    }
   ],
   "source": [
    "plt.scatter(range(num_periods), all_RE)"
   ]
  },
  {
   "cell_type": "markdown",
   "metadata": {},
   "source": [
    "#### Knowledge over time\n",
    "Somthing quite sad happens for the amount of knowledge over time in this paper. Given the way the Bush Mossteller equation is updated, 1/k+1 and not with a constant update percentage, initial values have much more weight that later values. This leads to the system to erode knowledge. ***Fast!"
   ]
  },
  {
   "cell_type": "code",
   "execution_count": 8,
   "metadata": {},
   "outputs": [
    {
     "data": {
      "text/plain": [
       "<matplotlib.collections.PathCollection at 0x50c89ea9b0>"
      ]
     },
     "execution_count": 8,
     "metadata": {},
     "output_type": "execute_result"
    },
    {
     "data": {
      "image/png": "[encoded data removed]",
      "text/plain": [
       "<Figure size 432x288 with 1 Axes>"
      ]
     },
     "metadata": {
      "needs_background": "light"
     },
     "output_type": "display_data"
    }
   ],
   "source": [
    "plt.scatter(range(num_periods), all_knowledge)"
   ]
  },
  {
   "cell_type": "markdown",
   "metadata": {},
   "source": [
    "##### Probability of Getting a Reward\n",
    "The second graph presents the average payoff. This looks like a funnel, narrowing from left to right. As the stable option is chosen more and more, the variance in the performanc decreases. "
   ]
  },
  {
   "cell_type": "code",
   "execution_count": 9,
   "metadata": {},
   "outputs": [
    {
     "data": {
      "text/plain": [
       "<matplotlib.collections.PathCollection at 0x50c8a4c710>"
      ]
     },
     "execution_count": 9,
     "metadata": {},
     "output_type": "execute_result"
    },
    {
     "data": {
      "image/png": "[encoded data removed]",
      "text/plain": [
       "<Figure size 432x288 with 1 Axes>"
      ]
     },
     "metadata": {
      "needs_background": "light"
     },
     "output_type": "display_data"
    }
   ],
   "source": [
    "plt.scatter(range(num_periods), all_payoffs)"
   ]
  },
  {
   "cell_type": "markdown",
   "metadata": {},
   "source": [
    "##### Summary variables\n",
    "###### Total accumulated payoff\n",
    "The bandits in this paper give a payoff of 1 or -1, so one needs to recalculate the total payoff. So that it matches what is shown in the paper. In the simulation I store the probability of getting a 1, here, the actual expected value."
   ]
  },
  {
   "cell_type": "code",
   "execution_count": 10,
   "metadata": {
    "scrolled": true
   },
   "outputs": [
    {
     "name": "stdout",
     "output_type": "stream",
     "text": [
      "277.276\n"
     ]
    }
   ],
   "source": [
    "print(sum(2*all_payoffs-num_reps)/num_reps)"
   ]
  },
  {
   "cell_type": "markdown",
   "metadata": {},
   "source": [
    "###### Fraction of exploration events\n",
    "The average percentage of exploration events during the 500 periods."
   ]
  },
  {
   "cell_type": "code",
   "execution_count": 11,
   "metadata": {
    "scrolled": true
   },
   "outputs": [
    {
     "name": "stdout",
     "output_type": "stream",
     "text": [
      "0.172052\n"
     ]
    }
   ],
   "source": [
    "print(sum(all_RE)/(num_reps*num_periods))"
   ]
  },
  {
   "cell_type": "markdown",
   "metadata": {},
   "source": [
    "###### Knowledge\n",
    "The average SSE knowledge at different stages of the simulation"
   ]
  },
  {
   "cell_type": "code",
   "execution_count": 12,
   "metadata": {},
   "outputs": [
    {
     "name": "stdout",
     "output_type": "stream",
     "text": [
      "Period 400: 0.604112656789015\n",
      "Period 500: 0.6107374526678152\n"
     ]
    }
   ],
   "source": [
    "print(\"Period 400: \" + str(all_knowledge[-101]/num_reps))\n",
    "print(\"Period 500: \" + str(all_knowledge[-1]/num_reps))"
   ]
  },
  {
   "cell_type": "markdown",
   "metadata": {},
   "source": [
    "#### 5. Exercise\n",
    "What would happen if Posen and Levinthal had chosen other learning rules? They studied e-greedy but how about constant update? How woud it affect the erosion of knowledge and the adaptation of the agents?\n"
   ]
  },
  {
   "cell_type": "code",
   "execution_count": null,
   "metadata": {},
   "outputs": [],
   "source": []
  }
 ],
 "metadata": {
  "kernelspec": {
   "display_name": "Python 3",
   "language": "python",
   "name": "python3"
  },
  "language_info": {
   "codemirror_mode": {
    "name": "ipython",
    "version": 3
   },
   "file_extension": ".py",
   "mimetype": "text/x-python",
   "name": "python",
   "nbconvert_exporter": "python",
   "pygments_lexer": "ipython3",
   "version": "3.7.3"
  }
 },
 "nbformat": 4,
 "nbformat_minor": 2
}
